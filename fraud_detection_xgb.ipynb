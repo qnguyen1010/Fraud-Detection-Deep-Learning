{
  "nbformat": 4,
  "nbformat_minor": 0,
  "metadata": {
    "accelerator": "GPU",
    "colab": {
      "name": "fraud_detection_xgb.ipynb",
      "provenance": [],
      "collapsed_sections": [
        "Q4qiqLT_t_IZ"
      ],
      "toc_visible": true,
      "machine_shape": "hm"
    },
    "kernelspec": {
      "display_name": "Python 3",
      "language": "python",
      "name": "python3"
    },
    "language_info": {
      "codemirror_mode": {
        "name": "ipython",
        "version": 3
      },
      "file_extension": ".py",
      "mimetype": "text/x-python",
      "name": "python",
      "nbconvert_exporter": "python",
      "pygments_lexer": "ipython3",
      "version": "3.7.3"
    }
  },
  "cells": [
    {
      "cell_type": "code",
      "metadata": {
        "colab_type": "code",
        "id": "1H8kV65oz18R",
        "outputId": "867c864f-4ab0-4f97-c79b-15a82e0f63e6",
        "colab": {
          "base_uri": "https://localhost:8080/",
          "height": 122
        }
      },
      "source": [
        "from google.colab import drive\n",
        "drive.mount('/content/drive')"
      ],
      "execution_count": 1,
      "outputs": [
        {
          "output_type": "stream",
          "text": [
            "Go to this URL in a browser: https://accounts.google.com/o/oauth2/auth?client_id=947318989803-6bn6qk8qdgf4n4g3pfee6491hc0brc4i.apps.googleusercontent.com&redirect_uri=urn%3Aietf%3Awg%3Aoauth%3A2.0%3Aoob&scope=email%20https%3A%2F%2Fwww.googleapis.com%2Fauth%2Fdocs.test%20https%3A%2F%2Fwww.googleapis.com%2Fauth%2Fdrive%20https%3A%2F%2Fwww.googleapis.com%2Fauth%2Fdrive.photos.readonly%20https%3A%2F%2Fwww.googleapis.com%2Fauth%2Fpeopleapi.readonly&response_type=code\n",
            "\n",
            "Enter your authorization code:\n",
            "··········\n",
            "Mounted at /content/drive\n"
          ],
          "name": "stdout"
        }
      ]
    },
    {
      "cell_type": "markdown",
      "metadata": {
        "colab_type": "text",
        "id": "5vJ7-mHwt_HE"
      },
      "source": [
        "#### My own functions"
      ]
    },
    {
      "cell_type": "code",
      "metadata": {
        "colab_type": "code",
        "id": "2OtDqXmGt_HG",
        "colab": {}
      },
      "source": [
        "def plot_hist(df, col, label):\n",
        "    plt.hist(df[col], label = label)\n",
        "    plt.legend()\n",
        "    plt.show()"
      ],
      "execution_count": 0,
      "outputs": []
    },
    {
      "cell_type": "markdown",
      "metadata": {
        "colab_type": "text",
        "id": "zd8DbKj1t_HJ"
      },
      "source": [
        "### 1. Data Preparation"
      ]
    },
    {
      "cell_type": "code",
      "metadata": {
        "_cell_guid": "b1076dfc-b9ad-4769-8c92-a6c4dae69d19",
        "_uuid": "8f2839f25d086af736a60e9eeb907d3b93b6e0e5",
        "colab_type": "code",
        "id": "q0cXboTlt_HK",
        "colab": {}
      },
      "source": [
        "# General imports\n",
        "import numpy as np\n",
        "np.random.seed(0)\n",
        "import pandas as pd\n",
        "from sklearn.preprocessing import LabelEncoder\n",
        "import os, sys, gc, warnings, random, datetime\n",
        "from sklearn import metrics\n",
        "from sklearn.model_selection import train_test_split, KFold, StratifiedKFold\n",
        "import matplotlib.pyplot as plt\n",
        "import seaborn as sns\n",
        "from tqdm import tqdm\n",
        "\n",
        "import math\n",
        "\n",
        "warnings.filterwarnings('ignore')"
      ],
      "execution_count": 0,
      "outputs": []
    },
    {
      "cell_type": "code",
      "metadata": {
        "_cell_guid": "79c7e3d0-c299-4dcb-8224-4455121ee9b0",
        "_uuid": "d629ff2d2480ee46fbb7e2d37f6b5fab8052498a",
        "colab_type": "code",
        "id": "21vv92zut_HN",
        "colab": {}
      },
      "source": [
        "## Seeder\n",
        "# :seed to make all processes deterministic     # type: int\n",
        "def seed_everything(seed=0):\n",
        "    random.seed(seed)\n",
        "    os.environ['PYTHONHASHSEED'] = str(seed)\n",
        "    np.random.seed(seed)\n",
        "## ------------------- \n",
        "\n",
        "## -------------------\n",
        "## Memory Reducer\n",
        "# :df pandas dataframe to reduce size             # type: pd.DataFrame()\n",
        "# :verbose                                        # type: bool\n",
        "def reduce_mem_usage(df, verbose=True):\n",
        "    numerics = ['int16', 'int32', 'int64', 'float16', 'float32', 'float64']\n",
        "    start_mem = df.memory_usage().sum() / 1024**2    \n",
        "    for col in df.columns:\n",
        "        col_type = df[col].dtypes\n",
        "        if col_type in numerics:\n",
        "            c_min = df[col].min()\n",
        "            c_max = df[col].max()\n",
        "            if str(col_type)[:3] == 'int':\n",
        "                if c_min > np.iinfo(np.int8).min and c_max < np.iinfo(np.int8).max:\n",
        "                    df[col] = df[col].astype(np.int8)\n",
        "                elif c_min > np.iinfo(np.int16).min and c_max < np.iinfo(np.int16).max:\n",
        "                    df[col] = df[col].astype(np.int16)\n",
        "                elif c_min > np.iinfo(np.int32).min and c_max < np.iinfo(np.int32).max:\n",
        "                    df[col] = df[col].astype(np.int32)\n",
        "                elif c_min > np.iinfo(np.int64).min and c_max < np.iinfo(np.int64).max:\n",
        "                    df[col] = df[col].astype(np.int64)  \n",
        "            else:\n",
        "                if c_min > np.finfo(np.float16).min and c_max < np.finfo(np.float16).max:\n",
        "                    df[col] = df[col].astype(np.float16)\n",
        "                elif c_min > np.finfo(np.float32).min and c_max < np.finfo(np.float32).max:\n",
        "                    df[col] = df[col].astype(np.float32)\n",
        "                else:\n",
        "                    df[col] = df[col].astype(np.float64)    \n",
        "    end_mem = df.memory_usage().sum() / 1024**2\n",
        "    if verbose: print('Mem. usage decreased to {:5.2f} Mb ({:.1f}% reduction)'.format(end_mem, 100 * (start_mem - end_mem) / start_mem))\n",
        "    return df\n",
        "## -------------------"
      ],
      "execution_count": 0,
      "outputs": []
    },
    {
      "cell_type": "code",
      "metadata": {
        "colab_type": "code",
        "id": "DRkyja3ht_HQ",
        "colab": {}
      },
      "source": [
        "SEED = 42\n",
        "seed_everything(SEED)\n",
        "TARGET = 'isFraud'"
      ],
      "execution_count": 0,
      "outputs": []
    },
    {
      "cell_type": "code",
      "metadata": {
        "colab_type": "code",
        "id": "BP4VzJjDt_HS",
        "outputId": "6cee658d-6f19-4e09-d63d-ee7cbe438b74",
        "colab": {
          "base_uri": "https://localhost:8080/",
          "height": 34
        }
      },
      "source": [
        "# ----- Load Data -------\n",
        "#os.chdir(\"/Users/jack/Desktop/Data Science/Notebooks/Springboard/Capstone2/ieee_data\")\n",
        "\n",
        "print('Loading Data..')\n",
        "\n",
        "train_df = pd.read_csv('/content/drive/My Drive/Springboard Capstone 2/train_transaction.csv')#('train_transaction.csv')#\n",
        "test_df = pd.read_csv('/content/drive/My Drive/Springboard Capstone 2/test_transaction.csv')#('test_transaction.csv')#\n",
        "test_df['isFraud'] = 0\n",
        "\n",
        "train_identity = pd.read_csv('/content/drive/My Drive/Springboard Capstone 2/train_identity.csv')#('train_identity.csv')#\n",
        "test_identity = pd.read_csv('/content/drive/My Drive/Springboard Capstone 2/test_identity.csv')#('test_identity.csv')#"
      ],
      "execution_count": 6,
      "outputs": [
        {
          "output_type": "stream",
          "text": [
            "Loading Data..\n"
          ],
          "name": "stdout"
        }
      ]
    },
    {
      "cell_type": "code",
      "metadata": {
        "colab_type": "code",
        "id": "JBlpnkx3t_HY",
        "outputId": "893359ac-5ac5-479e-9e9f-4d3d43b0018d",
        "colab": {
          "base_uri": "https://localhost:8080/",
          "height": 85
        }
      },
      "source": [
        "train_df = reduce_mem_usage(train_df)\n",
        "test_df  = reduce_mem_usage(test_df)\n",
        "\n",
        "train_identity = reduce_mem_usage(train_identity)\n",
        "test_identity  = reduce_mem_usage(test_identity)"
      ],
      "execution_count": 7,
      "outputs": [
        {
          "output_type": "stream",
          "text": [
            "Mem. usage decreased to 542.35 Mb (69.4% reduction)\n",
            "Mem. usage decreased to 473.07 Mb (68.9% reduction)\n",
            "Mem. usage decreased to 25.86 Mb (42.7% reduction)\n",
            "Mem. usage decreased to 25.44 Mb (42.7% reduction)\n"
          ],
          "name": "stdout"
        }
      ]
    },
    {
      "cell_type": "markdown",
      "metadata": {
        "colab_type": "text",
        "id": "uX3HTkBht_Hf"
      },
      "source": [
        "### 2. Data Preprocessing"
      ]
    },
    {
      "cell_type": "code",
      "metadata": {
        "colab_type": "code",
        "id": "ZJbwG4b1t_Ha",
        "colab": {}
      },
      "source": [
        "base_columns = list(train_df) + list(train_identity)"
      ],
      "execution_count": 0,
      "outputs": []
    },
    {
      "cell_type": "markdown",
      "metadata": {
        "colab_type": "text",
        "id": "Lhgrq-b2t_Hf"
      },
      "source": [
        "**Dataset Columns**\n",
        "\n",
        "**Transaction Data**\n",
        "\n",
        "'TransactionID'\n",
        "\n",
        "'isFraud'\n",
        "\n",
        "'TransactionDT'\n",
        "\n",
        "'TransactionAmt'\n",
        "\n",
        "'ProductCD' **Categorical Features**\n",
        "\n",
        "'card1' - 'card6' **Categorical Features**\n",
        "\n",
        "'addr1' - 'addr2' **Categorical Features**\n",
        "\n",
        "'dist1' - 'dist2'\n",
        "\n",
        "'P_emaildomain' **Categorical Features**\n",
        "\n",
        "'R_emaildomain' **Categorical Features**\n",
        "\n",
        "'C1' - 'C14'\n",
        "\n",
        "'D1' - 'D15'\n",
        "\n",
        "'M1' - 'M9' **Categorical Features**\n",
        "\n",
        "'V1' - 'V339'\n",
        "\n",
        "\n",
        "\n",
        "\n",
        "**Identity Data**\n",
        "\n",
        "'TransactionID'\n",
        "\n",
        "'id_01' - 'id_38' **Categorical Features id_12 - id_38**\n",
        "\n",
        "'DeviceType' **Categorical Features**\n",
        "\n",
        "'DeviceInfo' **Categorical Features**"
      ]
    },
    {
      "cell_type": "markdown",
      "metadata": {
        "colab_type": "text",
        "id": "VNGPCS-Rt_Hh"
      },
      "source": [
        "#### 2.1 Product CD\n",
        "\n",
        "Here we look at product code distribution and percentage of fraud in ALL transactions associated with every product code"
      ]
    },
    {
      "cell_type": "code",
      "metadata": {
        "colab_type": "code",
        "id": "vOSnG7Lft_Hi",
        "outputId": "d437abd3-941c-434f-df63-1e54d5ca3165",
        "colab": {
          "base_uri": "https://localhost:8080/",
          "height": 411
        }
      },
      "source": [
        "plt.figure(figsize=(14,6))\n",
        "\n",
        "total = len(train_df)\n",
        "\n",
        "plt.subplot(121)\n",
        "g = sns.countplot(x = 'ProductCD', data = train_df)\n",
        "g.set_title('ProductCD Distribution', fontsize = 15)\n",
        "g.set_xlabel(\"Product Code\", fontsize=15)\n",
        "g.set_ylabel(\"Count\", fontsize=15)\n",
        "for p in g.patches:\n",
        "    height = p.get_height()\n",
        "    g.text(p.get_x()+p.get_width()/2.,\n",
        "            height + 10,\n",
        "            '{:1.2f}%'.format(height/total*100),\n",
        "            ha=\"center\", fontsize=14) \n",
        "\n",
        "plt.subplot(122)\n",
        "g1 = sns.countplot(x='ProductCD', hue='isFraud', data=train_df)\n",
        "g1.set_title('ProductCD by Fraud', fontsize = 15)\n",
        "g1.set_xlabel(\"Product Code\", fontsize=15)\n",
        "g1.set_ylabel(\"Count\", fontsize=15)\n",
        "plt.legend(title='Fraud', loc='best', labels=['No', 'Yes'])\n",
        "for p in g1.patches:\n",
        "    height = p.get_height()\n",
        "    g1.text(p.get_x()+p.get_width()/2.,\n",
        "            height + 5,\n",
        "            '{:1.2f}%'.format(height/total*100),\n",
        "            ha=\"center\", fontsize=12) "
      ],
      "execution_count": 9,
      "outputs": [
        {
          "output_type": "display_data",
          "data": {
            "image/png": "[encoded data removed]",
            "text/plain": [
              "<Figure size 1008x432 with 2 Axes>"
            ]
          },
          "metadata": {
            "tags": []
          }
        }
      ]
    },
    {
      "cell_type": "markdown",
      "metadata": {
        "colab_type": "text",
        "id": "Gh1spje16uDQ"
      },
      "source": [
        "Now let's look at fraud transaction distribution in all product code"
      ]
    },
    {
      "cell_type": "code",
      "metadata": {
        "colab_type": "code",
        "id": "apZEQDW_t_Hm",
        "outputId": "dc0760bd-63ca-4471-87ca-2835830b000e",
        "colab": {
          "base_uri": "https://localhost:8080/",
          "height": 119
        }
      },
      "source": [
        "train_df[train_df['isFraud'] == 1]['ProductCD'].value_counts(normalize = True)"
      ],
      "execution_count": 10,
      "outputs": [
        {
          "output_type": "execute_result",
          "data": {
            "text/plain": [
              "W    0.434061\n",
              "C    0.387553\n",
              "H    0.076175\n",
              "R    0.069012\n",
              "S    0.033199\n",
              "Name: ProductCD, dtype: float64"
            ]
          },
          "metadata": {
            "tags": []
          },
          "execution_count": 10
        }
      ]
    },
    {
      "cell_type": "code",
      "metadata": {
        "colab_type": "code",
        "id": "5XNC25Vnt_Hn",
        "outputId": "105d4b3b-59d3-49c4-e649-f19d18dda93f",
        "colab": {
          "base_uri": "https://localhost:8080/",
          "height": 450
        }
      },
      "source": [
        "plt.figure(figsize = (16,16))\n",
        "temp = train_df.groupby('ProductCD')['isFraud'].value_counts(normalize = True).unstack()\n",
        "print(temp)\n",
        "a = temp.plot.bar(stacked = True)\n",
        "a.set_title('Rate of Fraud by Product Code', fontsize = 15)\n",
        "plt.xticks(rotation = 'horizontal')"
      ],
      "execution_count": 11,
      "outputs": [
        {
          "output_type": "stream",
          "text": [
            "isFraud           0         1\n",
            "ProductCD                    \n",
            "C          0.883127  0.116873\n",
            "H          0.952338  0.047662\n",
            "R          0.962174  0.037826\n",
            "S          0.941004  0.058996\n",
            "W          0.979601  0.020399\n"
          ],
          "name": "stdout"
        },
        {
          "output_type": "execute_result",
          "data": {
            "text/plain": [
              "(array([0, 1, 2, 3, 4]), <a list of 5 Text xticklabel objects>)"
            ]
          },
          "metadata": {
            "tags": []
          },
          "execution_count": 11
        },
        {
          "output_type": "display_data",
          "data": {
            "text/plain": [
              "<Figure size 1152x1152 with 0 Axes>"
            ]
          },
          "metadata": {
            "tags": []
          }
        },
        {
          "output_type": "display_data",
          "data": {
            "image/png": "[encoded data removed]",
            "text/plain": [
              "<Figure size 432x288 with 1 Axes>"
            ]
          },
          "metadata": {
            "tags": []
          }
        }
      ]
    },
    {
      "cell_type": "markdown",
      "metadata": {
        "colab_type": "text",
        "id": "nLQog0LGt_Hp"
      },
      "source": [
        "These results susgest that with product code, we need to do 2 things:\n",
        "* Encode categorical levels using Frequency Encoding\n",
        "* Add target mean by categorical level. It is found here that product C has highest fraud rate, compared to others"
      ]
    },
    {
      "cell_type": "code",
      "metadata": {
        "colab_type": "code",
        "id": "90X_2u7xt_Hq",
        "colab": {}
      },
      "source": [
        "# ProductCD Frequency Encoding\n",
        "col = 'ProductCD'\n",
        "temp_df = pd.concat([train_df[[col]], test_df[[col]]])   # I don't want to use test data\n",
        "#temp_df = train_df[[col]]\n",
        "col_encoded = temp_df[col].value_counts().to_dict()\n",
        "train_df[col] = train_df[col].map(col_encoded)\n",
        "test_df[col]  = test_df[col].map(col_encoded)"
      ],
      "execution_count": 0,
      "outputs": []
    },
    {
      "cell_type": "code",
      "metadata": {
        "colab_type": "code",
        "id": "8ttGaDFvt_Hr",
        "colab": {}
      },
      "source": [
        "# ProductCD Target mean\n",
        "for col in ['ProductCD']:\n",
        "    temp_dict = train_df.groupby([col])[TARGET].agg(['mean']).reset_index().rename(\n",
        "                                                        columns={'mean': col+'_target_mean'})\n",
        "#    print(temp_dict)\n",
        "#    print('=============')\n",
        "    \n",
        "    temp_dict.index = temp_dict[col].values\n",
        "#    print(temp_dict.index)\n",
        "#    print('=============')\n",
        "    \n",
        "    temp_dict = temp_dict[col+'_target_mean'].to_dict()\n",
        "#    print(temp_dict)\n",
        "#    print('****************')\n",
        "    \n",
        "    train_df[col+'_target_mean'] = train_df[col].map(temp_dict)\n",
        "    test_df[col+'_target_mean']  = test_df[col].map(temp_dict)"
      ],
      "execution_count": 0,
      "outputs": []
    },
    {
      "cell_type": "code",
      "metadata": {
        "colab_type": "code",
        "id": "ZdTvC7PS7-s6",
        "outputId": "4c52ed52-3836-4703-a1b0-0ea0dec779b6",
        "colab": {
          "base_uri": "https://localhost:8080/",
          "height": 204
        }
      },
      "source": [
        "train_df[['ProductCD', 'ProductCD_target_mean']].head()"
      ],
      "execution_count": 14,
      "outputs": [
        {
          "output_type": "execute_result",
          "data": {
            "text/html": [
              "<div>\n",
              "<style scoped>\n",
              "    .dataframe tbody tr th:only-of-type {\n",
              "        vertical-align: middle;\n",
              "    }\n",
              "\n",
              "    .dataframe tbody tr th {\n",
              "        vertical-align: top;\n",
              "    }\n",
              "\n",
              "    .dataframe thead th {\n",
              "        text-align: right;\n",
              "    }\n",
              "</style>\n",
              "<table border=\"1\" class=\"dataframe\">\n",
              "  <thead>\n",
              "    <tr style=\"text-align: right;\">\n",
              "      <th></th>\n",
              "      <th>ProductCD</th>\n",
              "      <th>ProductCD_target_mean</th>\n",
              "    </tr>\n",
              "  </thead>\n",
              "  <tbody>\n",
              "    <tr>\n",
              "      <th>0</th>\n",
              "      <td>800657</td>\n",
              "      <td>0.020399</td>\n",
              "    </tr>\n",
              "    <tr>\n",
              "      <th>1</th>\n",
              "      <td>800657</td>\n",
              "      <td>0.020399</td>\n",
              "    </tr>\n",
              "    <tr>\n",
              "      <th>2</th>\n",
              "      <td>800657</td>\n",
              "      <td>0.020399</td>\n",
              "    </tr>\n",
              "    <tr>\n",
              "      <th>3</th>\n",
              "      <td>800657</td>\n",
              "      <td>0.020399</td>\n",
              "    </tr>\n",
              "    <tr>\n",
              "      <th>4</th>\n",
              "      <td>62397</td>\n",
              "      <td>0.047662</td>\n",
              "    </tr>\n",
              "  </tbody>\n",
              "</table>\n",
              "</div>"
            ],
            "text/plain": [
              "   ProductCD  ProductCD_target_mean\n",
              "0     800657               0.020399\n",
              "1     800657               0.020399\n",
              "2     800657               0.020399\n",
              "3     800657               0.020399\n",
              "4      62397               0.047662"
            ]
          },
          "metadata": {
            "tags": []
          },
          "execution_count": 14
        }
      ]
    },
    {
      "cell_type": "markdown",
      "metadata": {
        "colab_type": "text",
        "id": "wwcEa527t_Hv"
      },
      "source": [
        "### **2.2 Card1 - Card6**"
      ]
    },
    {
      "cell_type": "markdown",
      "metadata": {
        "colab_type": "text",
        "id": "WKGf-bAmt_Hv"
      },
      "source": [
        "#### a. Card 1, 2, 3, 5\n",
        "\n",
        "The card 1,2,3, and 5 was represented as numerical values, temping us to plot the histogram. However, we need to remember that card columns were classified as categorical variables. Meaning it's likely that these numerical variables were coded for categorical variables."
      ]
    },
    {
      "cell_type": "code",
      "metadata": {
        "colab_type": "code",
        "id": "xhI2_Krlt_Hv",
        "outputId": "4e7933d1-7d84-4f5e-ac52-f2323776b81c",
        "colab": {
          "base_uri": "https://localhost:8080/",
          "height": 297
        }
      },
      "source": [
        "train_df.describe().loc[:,'card1':'card5']"
      ],
      "execution_count": 15,
      "outputs": [
        {
          "output_type": "execute_result",
          "data": {
            "text/html": [
              "<div>\n",
              "<style scoped>\n",
              "    .dataframe tbody tr th:only-of-type {\n",
              "        vertical-align: middle;\n",
              "    }\n",
              "\n",
              "    .dataframe tbody tr th {\n",
              "        vertical-align: top;\n",
              "    }\n",
              "\n",
              "    .dataframe thead th {\n",
              "        text-align: right;\n",
              "    }\n",
              "</style>\n",
              "<table border=\"1\" class=\"dataframe\">\n",
              "  <thead>\n",
              "    <tr style=\"text-align: right;\">\n",
              "      <th></th>\n",
              "      <th>card1</th>\n",
              "      <th>card2</th>\n",
              "      <th>card3</th>\n",
              "      <th>card5</th>\n",
              "    </tr>\n",
              "  </thead>\n",
              "  <tbody>\n",
              "    <tr>\n",
              "      <th>count</th>\n",
              "      <td>590540.000000</td>\n",
              "      <td>581607.0</td>\n",
              "      <td>588975.0</td>\n",
              "      <td>586281.0</td>\n",
              "    </tr>\n",
              "    <tr>\n",
              "      <th>mean</th>\n",
              "      <td>9898.734658</td>\n",
              "      <td>NaN</td>\n",
              "      <td>NaN</td>\n",
              "      <td>NaN</td>\n",
              "    </tr>\n",
              "    <tr>\n",
              "      <th>std</th>\n",
              "      <td>4901.170153</td>\n",
              "      <td>NaN</td>\n",
              "      <td>0.0</td>\n",
              "      <td>0.0</td>\n",
              "    </tr>\n",
              "    <tr>\n",
              "      <th>min</th>\n",
              "      <td>1000.000000</td>\n",
              "      <td>100.0</td>\n",
              "      <td>100.0</td>\n",
              "      <td>100.0</td>\n",
              "    </tr>\n",
              "    <tr>\n",
              "      <th>25%</th>\n",
              "      <td>6019.000000</td>\n",
              "      <td>214.0</td>\n",
              "      <td>150.0</td>\n",
              "      <td>166.0</td>\n",
              "    </tr>\n",
              "    <tr>\n",
              "      <th>50%</th>\n",
              "      <td>9678.000000</td>\n",
              "      <td>361.0</td>\n",
              "      <td>150.0</td>\n",
              "      <td>226.0</td>\n",
              "    </tr>\n",
              "    <tr>\n",
              "      <th>75%</th>\n",
              "      <td>14184.000000</td>\n",
              "      <td>512.0</td>\n",
              "      <td>150.0</td>\n",
              "      <td>226.0</td>\n",
              "    </tr>\n",
              "    <tr>\n",
              "      <th>max</th>\n",
              "      <td>18396.000000</td>\n",
              "      <td>600.0</td>\n",
              "      <td>231.0</td>\n",
              "      <td>237.0</td>\n",
              "    </tr>\n",
              "  </tbody>\n",
              "</table>\n",
              "</div>"
            ],
            "text/plain": [
              "               card1     card2     card3     card5\n",
              "count  590540.000000  581607.0  588975.0  586281.0\n",
              "mean     9898.734658       NaN       NaN       NaN\n",
              "std      4901.170153       NaN       0.0       0.0\n",
              "min      1000.000000     100.0     100.0     100.0\n",
              "25%      6019.000000     214.0     150.0     166.0\n",
              "50%      9678.000000     361.0     150.0     226.0\n",
              "75%     14184.000000     512.0     150.0     226.0\n",
              "max     18396.000000     600.0     231.0     237.0"
            ]
          },
          "metadata": {
            "tags": []
          },
          "execution_count": 15
        }
      ]
    },
    {
      "cell_type": "code",
      "metadata": {
        "colab_type": "code",
        "id": "oJk1WO-zt_Hw",
        "outputId": "3aa0ad22-4613-4546-cc5a-93aaa8899fe4",
        "colab": {
          "base_uri": "https://localhost:8080/",
          "height": 119
        }
      },
      "source": [
        "train_df.loc[:,'card1':'card5'].nunique()"
      ],
      "execution_count": 16,
      "outputs": [
        {
          "output_type": "execute_result",
          "data": {
            "text/plain": [
              "card1    13553\n",
              "card2      500\n",
              "card3      114\n",
              "card4        4\n",
              "card5      119\n",
              "dtype: int64"
            ]
          },
          "metadata": {
            "tags": []
          },
          "execution_count": 16
        }
      ]
    },
    {
      "cell_type": "markdown",
      "metadata": {
        "colab_type": "text",
        "id": "J02g1baRt_Hy"
      },
      "source": [
        "Card 1 contains 13553 unique values, suggesting card 1 may have been ID of the card. Card 2,3 and 5 have less unique values, so perhaps they could be expiration date, or combinations that generate card identity? Since we don't know how these information was scrammbled, we might pickup patterns generated by encryption algorithm instead of data. We can calculate target mean grouped by 'card1' - 'card5' (except 'card4')"
      ]
    },
    {
      "cell_type": "code",
      "metadata": {
        "colab_type": "code",
        "id": "VqWJ0Vmet_Hy",
        "colab": {}
      },
      "source": [
        "for col in ['card1', 'card2', 'card3', 'card5']:\n",
        "    temp_dict = train_df.groupby([col])[TARGET].agg(['mean']).reset_index().rename(\n",
        "                                                        columns={'mean': col+'_target_mean'})\n",
        "    temp_dict.index = temp_dict[col].values\n",
        "    temp_dict = temp_dict[col+'_target_mean'].to_dict()\n",
        "\n",
        "    train_df[col+'_target_mean'] = train_df[col].map(temp_dict)\n",
        "    test_df[col+'_target_mean']  = test_df[col].map(temp_dict)"
      ],
      "execution_count": 0,
      "outputs": []
    },
    {
      "cell_type": "code",
      "metadata": {
        "colab_type": "code",
        "id": "BAC7gqu7t_H0",
        "colab": {}
      },
      "source": [
        "########################### Reset values for \"noise\" card1\n",
        "i_cols = ['card1']\n",
        "\n",
        "for col in i_cols: \n",
        "    valid_card = pd.concat([train_df[[col]], test_df[[col]]])\n",
        "    valid_card = valid_card[col].value_counts()\n",
        "    valid_card = valid_card[valid_card>2]\n",
        "    valid_card = list(valid_card.index)\n",
        "\n",
        "    train_df[col] = np.where(train_df[col].isin(test_df[col]), train_df[col], np.nan)\n",
        "    test_df[col]  = np.where(test_df[col].isin(train_df[col]), test_df[col], np.nan)\n",
        "\n",
        "    train_df[col] = np.where(train_df[col].isin(valid_card), train_df[col], np.nan)\n",
        "    test_df[col]  = np.where(test_df[col].isin(valid_card), test_df[col], np.nan)"
      ],
      "execution_count": 0,
      "outputs": []
    },
    {
      "cell_type": "markdown",
      "metadata": {
        "colab_type": "text",
        "id": "a87tddb5t_H0"
      },
      "source": [
        "b. Card4"
      ]
    },
    {
      "cell_type": "code",
      "metadata": {
        "colab_type": "code",
        "id": "0WVPC5Uht_H1",
        "outputId": "bca9f216-50cf-4e14-8c55-ebee4db2411f",
        "colab": {
          "base_uri": "https://localhost:8080/",
          "height": 411
        }
      },
      "source": [
        "plt.figure(figsize=(14,6))\n",
        "\n",
        "total = len(train_df)\n",
        "\n",
        "plt.subplot(121)\n",
        "g = sns.countplot(x = 'card4', data = train_df)\n",
        "g.set_title('Card Network Distribution', fontsize = 15)\n",
        "g.set_xlabel(\"Card Issuers\", fontsize=15)\n",
        "g.set_ylabel(\"Count\", fontsize=15)\n",
        "for p in g.patches:\n",
        "    height = p.get_height()\n",
        "    g.text(p.get_x()+p.get_width()/2.,\n",
        "            height + 3,\n",
        "            '{:1.2f}%'.format(height/total*100),\n",
        "            ha=\"center\", fontsize=14) \n",
        "\n",
        "plt.subplot(122)\n",
        "g1 = sns.countplot(x='card4', hue='isFraud', data=train_df)\n",
        "g1.set_title('Card Network by Fraud', fontsize = 15)\n",
        "g1.set_xlabel(\"Card Issuers\", fontsize=15)\n",
        "g1.set_ylabel(\"Count\", fontsize=15)\n",
        "plt.legend(title='Fraud', loc='best', labels=['No', 'Yes'])\n",
        "for p in g1.patches:\n",
        "    height = p.get_height()\n",
        "    g1.text(p.get_x()+p.get_width()/2.,\n",
        "            height + 3,\n",
        "            '{:1.2f}%'.format(height/total*100),\n",
        "            ha=\"center\", fontsize=12) "
      ],
      "execution_count": 19,
      "outputs": [
        {
          "output_type": "display_data",
          "data": {
            "image/png": "[encoded data removed]",
            "text/plain": [
              "<Figure size 1008x432 with 2 Axes>"
            ]
          },
          "metadata": {
            "tags": []
          }
        }
      ]
    },
    {
      "cell_type": "code",
      "metadata": {
        "colab_type": "code",
        "id": "6r3z_qcJt_H1",
        "outputId": "0df611e4-4cc3-44ed-fb64-f6dcd41495a9",
        "colab": {
          "base_uri": "https://localhost:8080/",
          "height": 329
        }
      },
      "source": [
        "# visualization of table\n",
        "plt.figure(figsize=(12,12))\n",
        "b = train_df.groupby('card4')['isFraud'].value_counts(normalize = True).unstack().plot.bar(stacked = True)\n",
        "b.set_title('Rate of Fraud by Card Network', fontsize = 13)\n",
        "plt.xticks(rotation='horizontal')"
      ],
      "execution_count": 20,
      "outputs": [
        {
          "output_type": "execute_result",
          "data": {
            "text/plain": [
              "(array([0, 1, 2, 3]), <a list of 4 Text xticklabel objects>)"
            ]
          },
          "metadata": {
            "tags": []
          },
          "execution_count": 20
        },
        {
          "output_type": "display_data",
          "data": {
            "text/plain": [
              "<Figure size 864x864 with 0 Axes>"
            ]
          },
          "metadata": {
            "tags": []
          }
        },
        {
          "output_type": "display_data",
          "data": {
            "image/png": "[encoded data removed]",
            "text/plain": [
              "<Figure size 432x288 with 1 Axes>"
            ]
          },
          "metadata": {
            "tags": []
          }
        }
      ]
    },
    {
      "cell_type": "code",
      "metadata": {
        "colab_type": "code",
        "id": "b9zp7eLFt_H2",
        "colab": {}
      },
      "source": [
        "# Card4 Frequency Encoding\n",
        "col = 'card4'\n",
        "temp_df = pd.concat([train_df[[col]], test_df[[col]]])\n",
        "col_encoded = temp_df[col].value_counts().to_dict()\n",
        "train_df[col] = train_df[col].map(col_encoded)\n",
        "test_df[col]  = test_df[col].map(col_encoded)\n",
        "\n",
        "# Card4 Target mean\n",
        "for col in ['card4']:\n",
        "    temp_dict = train_df.groupby([col])[TARGET].agg(['mean']).reset_index().rename(\n",
        "                                                        columns={'mean': col+'_target_mean'})\n",
        "    temp_dict.index = temp_dict[col].values\n",
        "    temp_dict = temp_dict[col+'_target_mean'].to_dict()\n",
        "\n",
        "    train_df[col+'_target_mean'] = train_df[col].map(temp_dict)\n",
        "    test_df[col+'_target_mean']  = test_df[col].map(temp_dict)"
      ],
      "execution_count": 0,
      "outputs": []
    },
    {
      "cell_type": "markdown",
      "metadata": {
        "colab_type": "text",
        "id": "2RjnD_RFt_H3"
      },
      "source": [
        "c. Card6"
      ]
    },
    {
      "cell_type": "code",
      "metadata": {
        "colab_type": "code",
        "id": "paynpGoCt_H3",
        "outputId": "bd891dae-6eb9-4ffc-a14f-1e6644c85625",
        "colab": {
          "base_uri": "https://localhost:8080/",
          "height": 479
        }
      },
      "source": [
        "plt.figure(figsize=(12,6))\n",
        "\n",
        "total = len(train_df)\n",
        "\n",
        "plt.subplot(121)\n",
        "g = sns.countplot(x = 'card6', data = train_df)\n",
        "g.set_title('Card Type Distribution', fontsize = 15)\n",
        "g.set_xlabel(\"Card Type\", fontsize=15)\n",
        "g.set_ylabel(\"Count\", fontsize=15)\n",
        "for p in g.patches:\n",
        "    height = p.get_height()\n",
        "    g.text(p.get_x()+p.get_width()/2.,\n",
        "            height + 3,\n",
        "            '{:1.2f}%'.format(height/total*100),\n",
        "            ha=\"center\", fontsize=14) \n",
        "\n",
        "plt.subplot(122)\n",
        "g1 = sns.countplot(x='card6', hue='isFraud', data=train_df)\n",
        "g1.set_title('Card Type by Fraud', fontsize = 15)\n",
        "g1.set_xlabel(\"Card Type\", fontsize=15)\n",
        "g1.set_ylabel(\"Count\", fontsize=15)\n",
        "plt.legend(title='Fraud', loc='best', labels=['No', 'Yes'])\n",
        "for p in g1.patches:\n",
        "    height = p.get_height()\n",
        "    g1.text(p.get_x()+p.get_width()/2.,\n",
        "            height + 3,\n",
        "            '{:1.2f}%'.format(height/total*100),\n",
        "            ha=\"center\", fontsize=12) "
      ],
      "execution_count": 22,
      "outputs": [
        {
          "output_type": "stream",
          "text": [
            "posx and posy should be finite values\n",
            "posx and posy should be finite values\n",
            "posx and posy should be finite values\n",
            "posx and posy should be finite values\n"
          ],
          "name": "stderr"
        },
        {
          "output_type": "display_data",
          "data": {
            "image/png": "[encoded data removed]",
            "text/plain": [
              "<Figure size 864x432 with 2 Axes>"
            ]
          },
          "metadata": {
            "tags": []
          }
        }
      ]
    },
    {
      "cell_type": "code",
      "metadata": {
        "colab_type": "code",
        "id": "Se-ocpWTt_H4",
        "outputId": "f85467eb-d9ab-471b-d0da-f4b332e147d7",
        "colab": {
          "base_uri": "https://localhost:8080/",
          "height": 331
        }
      },
      "source": [
        "# visualization of table\n",
        "plt.figure(figsize=(16,16))\n",
        "c = train_df.groupby('card6')['isFraud'].value_counts(normalize = True).unstack().plot.bar(stacked = True)\n",
        "c.set_title('Rate of Fraud by Card Type', fontsize = 15)\n",
        "plt.xticks(rotation='horizontal')"
      ],
      "execution_count": 23,
      "outputs": [
        {
          "output_type": "execute_result",
          "data": {
            "text/plain": [
              "(array([0, 1, 2, 3]), <a list of 4 Text xticklabel objects>)"
            ]
          },
          "metadata": {
            "tags": []
          },
          "execution_count": 23
        },
        {
          "output_type": "display_data",
          "data": {
            "text/plain": [
              "<Figure size 1152x1152 with 0 Axes>"
            ]
          },
          "metadata": {
            "tags": []
          }
        },
        {
          "output_type": "display_data",
          "data": {
            "image/png": "[encoded data removed]",
            "text/plain": [
              "<Figure size 432x288 with 1 Axes>"
            ]
          },
          "metadata": {
            "tags": []
          }
        }
      ]
    },
    {
      "cell_type": "markdown",
      "metadata": {
        "colab_type": "text",
        "id": "w8i05DsTt_H5"
      },
      "source": [
        "Credit card has much higher fraud rate as compared with other types of card"
      ]
    },
    {
      "cell_type": "code",
      "metadata": {
        "colab_type": "code",
        "id": "UksHgX5vt_H5",
        "colab": {}
      },
      "source": [
        "# Card6 Frequency Encoding\n",
        "col = 'card6'\n",
        "temp_df = pd.concat([train_df[[col]], test_df[[col]]])\n",
        "col_encoded = temp_df[col].value_counts().to_dict()\n",
        "train_df[col] = train_df[col].map(col_encoded)\n",
        "test_df[col]  = test_df[col].map(col_encoded)\n",
        "\n",
        "# Card6 Target mean\n",
        "for col in ['card6']:\n",
        "    temp_dict = train_df.groupby([col])[TARGET].agg(['mean']).reset_index().rename(\n",
        "                                                        columns={'mean': col+'_target_mean'})\n",
        "    temp_dict.index = temp_dict[col].values\n",
        "    temp_dict = temp_dict[col+'_target_mean'].to_dict()\n",
        "\n",
        "    train_df[col+'_target_mean'] = train_df[col].map(temp_dict)\n",
        "    test_df[col+'_target_mean']  = test_df[col].map(temp_dict)"
      ],
      "execution_count": 0,
      "outputs": []
    },
    {
      "cell_type": "markdown",
      "metadata": {
        "colab_type": "text",
        "id": "vf9WJhI1t_IA"
      },
      "source": [
        "### **2.3 'M1' - 'M9'**"
      ]
    },
    {
      "cell_type": "code",
      "metadata": {
        "colab_type": "code",
        "id": "rROHOAUKt_IA",
        "outputId": "77fc82f3-1bac-47c4-8ea4-f09a853124b0",
        "colab": {
          "base_uri": "https://localhost:8080/",
          "height": 153
        }
      },
      "source": [
        "temp = train_df.groupby('M4')['isFraud'].value_counts(normalize = True)\n",
        "temp"
      ],
      "execution_count": 25,
      "outputs": [
        {
          "output_type": "execute_result",
          "data": {
            "text/plain": [
              "M4  isFraud\n",
              "M0  0          0.963351\n",
              "    1          0.036649\n",
              "M1  0          0.972949\n",
              "    1          0.027051\n",
              "M2  0          0.886261\n",
              "    1          0.113739\n",
              "Name: isFraud, dtype: float64"
            ]
          },
          "metadata": {
            "tags": []
          },
          "execution_count": 25
        }
      ]
    },
    {
      "cell_type": "code",
      "metadata": {
        "colab_type": "code",
        "id": "eLJlwZgat_IC",
        "colab": {}
      },
      "source": [
        "# 'M4' Target mean\n",
        "for col in ['M4']:\n",
        "    temp_dict = train_df.groupby([col])[TARGET].agg(['mean']).reset_index().rename(\n",
        "                                                        columns={'mean': col+'_target_mean'})\n",
        "    temp_dict.index = temp_dict[col].values\n",
        "    temp_dict = temp_dict[col+'_target_mean'].to_dict()\n",
        "\n",
        "    train_df[col+'_target_mean'] = train_df[col].map(temp_dict)\n",
        "    test_df[col+'_target_mean']  = test_df[col].map(temp_dict)"
      ],
      "execution_count": 0,
      "outputs": []
    },
    {
      "cell_type": "code",
      "metadata": {
        "colab_type": "code",
        "id": "c-IXzhn9t_IC",
        "outputId": "46e910d6-cd01-4137-8cee-2bcace22f87e",
        "colab": {
          "base_uri": "https://localhost:8080/",
          "height": 51
        }
      },
      "source": [
        "for col in ['M1','M2','M3','M5','M6','M7','M8','M9']:\n",
        "    train_df[col] = train_df[col].map({'T':1, 'F':0})\n",
        "    test_df[col]  = test_df[col].map({'T':1, 'F':0})\n",
        "    \n",
        "for col in ['M4']:\n",
        "    print('Encoding', col)\n",
        "    temp_df = pd.concat([train_df[[col]], test_df[[col]]])\n",
        "    col_encoded = temp_df[col].value_counts().to_dict()   \n",
        "    train_df[col] = train_df[col].map(col_encoded)\n",
        "    test_df[col]  = test_df[col].map(col_encoded)\n",
        "    print(col_encoded)"
      ],
      "execution_count": 27,
      "outputs": [
        {
          "output_type": "stream",
          "text": [
            "Encoding M4\n",
            "{'M0': 357789, 'M2': 122947, 'M1': 97306}\n"
          ],
          "name": "stdout"
        }
      ]
    },
    {
      "cell_type": "markdown",
      "metadata": {
        "colab_type": "text",
        "id": "nxgxLDTPt_IF"
      },
      "source": [
        "### **2.4 'id_12' - 'id_38'**"
      ]
    },
    {
      "cell_type": "code",
      "metadata": {
        "colab_type": "code",
        "id": "MOb45Vk3t_IG",
        "colab": {}
      },
      "source": [
        "########################### Identity columns\n",
        "#################################################################################\n",
        "\n",
        "def minify_identity_df(df):\n",
        "\n",
        "    df['id_12'] = df['id_12'].map({'Found':1, 'NotFound':0})\n",
        "    df['id_15'] = df['id_15'].map({'New':2, 'Found':1, 'Unknown':0})\n",
        "    df['id_16'] = df['id_16'].map({'Found':1, 'NotFound':0})\n",
        "\n",
        "    df['id_23'] = df['id_23'].map({'TRANSPARENT':4, 'IP_PROXY':3, 'IP_PROXY:ANONYMOUS':2, 'IP_PROXY:HIDDEN':1})\n",
        "\n",
        "    df['id_27'] = df['id_27'].map({'Found':1, 'NotFound':0})\n",
        "    df['id_28'] = df['id_28'].map({'New':2, 'Found':1})\n",
        "\n",
        "    df['id_29'] = df['id_29'].map({'Found':1, 'NotFound':0})\n",
        "\n",
        "    df['id_35'] = df['id_35'].map({'T':1, 'F':0})\n",
        "    df['id_36'] = df['id_36'].map({'T':1, 'F':0})\n",
        "    df['id_37'] = df['id_37'].map({'T':1, 'F':0})\n",
        "    df['id_38'] = df['id_38'].map({'T':1, 'F':0})\n",
        "\n",
        "    df['id_34'] = df['id_34'].fillna(':0')\n",
        "    df['id_34'] = df['id_34'].apply(lambda x: x.split(':')[1]).astype(np.int8)\n",
        "    df['id_34'] = np.where(df['id_34']==0, np.nan, df['id_34'])\n",
        "    \n",
        "    df['id_33'] = df['id_33'].fillna('0x0')\n",
        "    df['id_33_0'] = df['id_33'].apply(lambda x: x.split('x')[0]).astype(int)\n",
        "    df['id_33_1'] = df['id_33'].apply(lambda x: x.split('x')[1]).astype(int)\n",
        "    df['id_33'] = np.where(df['id_33']=='0x0', np.nan, df['id_33'])\n",
        "\n",
        "    df['DeviceType'].map({'desktop':1, 'mobile':0})\n",
        "    return df\n",
        "\n",
        "train_identity = minify_identity_df(train_identity)\n",
        "test_identity = minify_identity_df(test_identity)\n",
        "\n",
        "for col in ['id_33']:\n",
        "    train_identity[col] = train_identity[col].fillna('unseen_before_label')\n",
        "    test_identity[col]  = test_identity[col].fillna('unseen_before_label')\n",
        "    \n",
        "    le = LabelEncoder()\n",
        "    le.fit(list(train_identity[col])+list(test_identity[col]))\n",
        "    train_identity[col] = le.transform(train_identity[col])\n",
        "    test_identity[col]  = le.transform(test_identity[col])"
      ],
      "execution_count": 0,
      "outputs": []
    },
    {
      "cell_type": "markdown",
      "metadata": {
        "colab_type": "text",
        "id": "e-o5K8OJt_IH"
      },
      "source": [
        "### **3. Feature Engineering**"
      ]
    },
    {
      "cell_type": "markdown",
      "metadata": {
        "colab_type": "text",
        "id": "_Y8qGfLVt_IH"
      },
      "source": [
        "#### **3.1 TransactionDT**"
      ]
    },
    {
      "cell_type": "code",
      "metadata": {
        "colab_type": "code",
        "id": "hd0i8ap6t_IH",
        "colab": {}
      },
      "source": [
        "START_DATE = datetime.datetime.strptime('2018-01-01', '%Y-%m-%d')\n",
        "\n",
        "for df in [train_df, test_df]:\n",
        "    # Temporary\n",
        "    df['DT'] = df['TransactionDT'].apply(lambda x: START_DATE + (datetime.timedelta(seconds = x)))\n",
        "    df['DT_M'] = df['DT'].dt.month\n",
        "    df['DT_W'] = df['DT'].dt.weekofyear\n",
        "    df['DT_D'] = df['DT'].dt.dayofyear\n",
        "    \n",
        "    df['DT_hour'] = df['DT'].dt.hour\n",
        "    df['DT_day_week'] = df['DT'].dt.dayofweek\n",
        "    df['DT_day'] = df['DT'].dt.day\n",
        "    \n",
        "    # D9 column\n",
        "    df['D9'] = np.where(df['D9'].isna(),0,1)\n",
        "\n",
        "#del train_df['DT']\n",
        "#del test_df['DT']"
      ],
      "execution_count": 0,
      "outputs": []
    },
    {
      "cell_type": "markdown",
      "metadata": {
        "colab_type": "text",
        "id": "mw109x1vt_II"
      },
      "source": [
        "#### 3.2 Transaction Amount"
      ]
    },
    {
      "cell_type": "code",
      "metadata": {
        "colab_type": "code",
        "id": "g1tJHsm4t_II",
        "colab": {}
      },
      "source": [
        "train_df['TransactionAmt_to_mean_ProductCD'] = train_df['TransactionAmt'] / train_df.groupby(['ProductCD'])['TransactionAmt'].transform('mean')\n",
        "train_df['TransactionAmt_to_mean_Hour'] = train_df['TransactionAmt'] / train_df.groupby(['DT_hour'])['TransactionAmt'].transform('mean')\n",
        "train_df['TransactionAmt_to_std_ProductCD'] = train_df['TransactionAmt'] / train_df.groupby(['ProductCD'])['TransactionAmt'].transform('std')\n",
        "train_df['TransactionAmt_to_std_Hour'] = train_df['TransactionAmt'] / train_df.groupby(['DT_hour'])['TransactionAmt'].transform('std')\n",
        "\n",
        "test_df['TransactionAmt_to_mean_ProductCD'] = test_df['TransactionAmt'] / train_df.groupby(['ProductCD'])['TransactionAmt'].transform('mean')\n",
        "test_df['TransactionAmt_to_mean_Hour'] = test_df['TransactionAmt'] / train_df.groupby(['DT_hour'])['TransactionAmt'].transform('mean')\n",
        "test_df['TransactionAmt_to_std_ProductCD'] = test_df['TransactionAmt'] / train_df.groupby(['ProductCD'])['TransactionAmt'].transform('std')\n",
        "test_df['TransactionAmt_to_std_Hour'] = test_df['TransactionAmt'] / train_df.groupby(['DT_hour'])['TransactionAmt'].transform('std')"
      ],
      "execution_count": 0,
      "outputs": []
    },
    {
      "cell_type": "code",
      "metadata": {
        "colab_type": "code",
        "id": "9ld-c4jQt_IJ",
        "colab": {}
      },
      "source": [
        "# Let's add some kind of client uID based on cardID ad addr columns\n",
        "# The value will be very specific for each client so we need to remove it\n",
        "# from final feature. But we can use it for aggregations.\n",
        "train_df['uid'] = train_df['card1'].astype(str)+'_'+train_df['card2'].astype(str)\n",
        "test_df['uid'] = test_df['card1'].astype(str)+'_'+test_df['card2'].astype(str)\n",
        "\n",
        "train_df['uid2'] = train_df['uid'].astype(str)+'_'+train_df['card3'].astype(str)+'_'+train_df['card4'].astype(str)\n",
        "test_df['uid2'] = test_df['uid'].astype(str)+'_'+test_df['card3'].astype(str)+'_'+test_df['card4'].astype(str)\n",
        "\n",
        "train_df['uid3'] = train_df['uid2'].astype(str)+'_'+train_df['addr1'].astype(str)+'_'+train_df['addr2'].astype(str)\n",
        "test_df['uid3'] = test_df['uid2'].astype(str)+'_'+test_df['addr1'].astype(str)+'_'+test_df['addr2'].astype(str)\n",
        "\n",
        "# Check if the Transaction Amount is common or not (we can use freq encoding here)\n",
        "# In our dialog with a model we are telling to trust or not to these values   \n",
        "train_df['TransactionAmt_check'] = np.where(train_df['TransactionAmt'].isin(test_df['TransactionAmt']), 1, 0)\n",
        "test_df['TransactionAmt_check']  = np.where(test_df['TransactionAmt'].isin(train_df['TransactionAmt']), 1, 0)\n",
        "\n",
        "\n",
        "i_cols = ['card1','card2','card3','card5','uid','uid2','uid3']\n",
        "for col in i_cols:\n",
        "    for agg_type in ['mean','std']:\n",
        "        new_col_name = col+'_TransactionAmt_'+agg_type\n",
        "        temp_df = pd.concat([train_df[[col, 'TransactionAmt']], test_df[[col,'TransactionAmt']]])\n",
        "        temp_df = temp_df.groupby([col])['TransactionAmt'].agg([agg_type]).reset_index().rename(\n",
        "                                                columns={agg_type: new_col_name})\n",
        "        \n",
        "        temp_df.index = list(temp_df[col])\n",
        "        temp_df = temp_df[new_col_name].to_dict()   \n",
        "    \n",
        "        train_df[new_col_name] = train_df[col].map(temp_df)\n",
        "        test_df[new_col_name]  = test_df[col].map(temp_df)"
      ],
      "execution_count": 0,
      "outputs": []
    },
    {
      "cell_type": "code",
      "metadata": {
        "colab_type": "code",
        "id": "Tw9N0FQEt_IL",
        "colab": {}
      },
      "source": [
        "# 'P_emaildomain' - 'R_emaildomain'\n",
        "p = 'P_emaildomain'\n",
        "r = 'R_emaildomain'\n",
        "uknown = 'email_not_provided'\n",
        "\n",
        "for df in [train_df, test_df]:\n",
        "    df[p] = df[p].fillna(uknown)\n",
        "    df[r] = df[r].fillna(uknown)\n",
        "    \n",
        "    # Check if P_emaildomain matches R_emaildomain\n",
        "    df['email_check'] = np.where((df[p]==df[r])&(df[p]!=uknown),1,0)\n",
        "\n",
        "    df[p+'_prefix'] = df[p].apply(lambda x: x.split('.')[0])\n",
        "    df[r+'_prefix'] = df[r].apply(lambda x: x.split('.')[0])"
      ],
      "execution_count": 0,
      "outputs": []
    },
    {
      "cell_type": "code",
      "metadata": {
        "colab_type": "code",
        "id": "5IZOohGOt_IN",
        "colab": {}
      },
      "source": [
        "# -------- Device info ------------\n",
        "for df in [train_identity, test_identity]:\n",
        "    df['DeviceInfo'] = df['DeviceInfo'].fillna('unknown_device').str.lower()\n",
        "    df['DeviceInfo_device'] = df['DeviceInfo'].apply(lambda x: ''.join([i for i in x if i.isalpha()]))\n",
        "    df['DeviceInfo_version'] = df['DeviceInfo'].apply(lambda x: ''.join([i for i in x if i.isnumeric()]))\n",
        "    \n",
        "    df['id_30'] = df['id_30'].fillna('unknown_device').str.lower()\n",
        "    df['id_30_device'] = df['id_30'].apply(lambda x: ''.join([i for i in x if i.isalpha()]))\n",
        "    df['id_30_version'] = df['id_30'].apply(lambda x: ''.join([i for i in x if i.isnumeric()]))\n",
        "    \n",
        "    # For browser\n",
        "    df['id_31'] = df['id_31'].fillna('unknown_device').str.lower()\n",
        "    df['id_31_device'] = df['id_31'].apply(lambda x: ''.join([i for i in x if i.isalpha()]))"
      ],
      "execution_count": 0,
      "outputs": []
    },
    {
      "cell_type": "code",
      "metadata": {
        "colab_type": "code",
        "id": "tvOw7xTPt_IN",
        "colab": {}
      },
      "source": [
        "# Merge Identity columns\n",
        "temp_df = train_df[['TransactionID']]\n",
        "temp_df = temp_df.merge(train_identity, on=['TransactionID'], how='left')\n",
        "del temp_df['TransactionID']\n",
        "train_df = pd.concat([train_df,temp_df], axis=1)\n",
        "    \n",
        "temp_df = test_df[['TransactionID']]\n",
        "temp_df = temp_df.merge(test_identity, on=['TransactionID'], how='left')\n",
        "del temp_df['TransactionID']\n",
        "test_df = pd.concat([test_df,temp_df], axis=1)"
      ],
      "execution_count": 0,
      "outputs": []
    },
    {
      "cell_type": "markdown",
      "metadata": {
        "colab_type": "text",
        "id": "Uv2-xCGlt_IO"
      },
      "source": [
        "#### **3.3 Frequency Encoding**\n"
      ]
    },
    {
      "cell_type": "code",
      "metadata": {
        "colab_type": "code",
        "id": "BAtzCZivt_IO",
        "colab": {}
      },
      "source": [
        "# Freq encoding\n",
        "i_cols = ['card1','card2','card3','card5',\n",
        "          'C1','C2','C3','C4','C5','C6','C7','C8','C9','C10','C11','C12','C13','C14',\n",
        "          'D1','D2','D3','D4','D5','D6','D7','D8',\n",
        "          'addr1','addr2',\n",
        "          'dist1','dist2',\n",
        "          'P_emaildomain', 'R_emaildomain',\n",
        "          'DeviceInfo','DeviceInfo_device','DeviceInfo_version',\n",
        "          'id_30','id_30_device','id_30_version',\n",
        "          'id_31_device',\n",
        "          'id_33',\n",
        "          'uid','uid2','uid3',\n",
        "         ]\n",
        "\n",
        "for col in i_cols:\n",
        "    temp_df = pd.concat([train_df[[col]], test_df[[col]]])\n",
        "    fq_encode = temp_df[col].value_counts(dropna=False).to_dict()   \n",
        "    train_df[col+'_fq_enc'] = train_df[col].map(fq_encode)\n",
        "    test_df[col+'_fq_enc']  = test_df[col].map(fq_encode)\n",
        "\n",
        "\n",
        "for col in ['DT_M','DT_W','DT_D']:\n",
        "    temp_df = pd.concat([train_df[[col]], test_df[[col]]])\n",
        "    fq_encode = temp_df[col].value_counts().to_dict()\n",
        "            \n",
        "    train_df[col+'_total'] = train_df[col].map(fq_encode)\n",
        "    test_df[col+'_total']  = test_df[col].map(fq_encode)\n",
        "        \n",
        "\n",
        "periods = ['DT_M','DT_W','DT_D']\n",
        "i_cols = ['uid']\n",
        "for period in periods:\n",
        "    for col in i_cols:\n",
        "        new_column = col + '_' + period\n",
        "            \n",
        "        temp_df = pd.concat([train_df[[col,period]], test_df[[col,period]]])\n",
        "        temp_df[new_column] = temp_df[col].astype(str) + '_' + (temp_df[period]).astype(str)\n",
        "        fq_encode = temp_df[new_column].value_counts().to_dict()\n",
        "            \n",
        "        train_df[new_column] = (train_df[col].astype(str) + '_' + train_df[period].astype(str)).map(fq_encode)\n",
        "        test_df[new_column]  = (test_df[col].astype(str) + '_' + test_df[period].astype(str)).map(fq_encode)\n",
        "        \n",
        "        train_df[new_column] /= train_df[period+'_total']\n",
        "        test_df[new_column]  /= test_df[period+'_total']"
      ],
      "execution_count": 0,
      "outputs": []
    },
    {
      "cell_type": "code",
      "metadata": {
        "colab_type": "code",
        "id": "bX4WPobHt_IP",
        "colab": {}
      },
      "source": [
        "# M columns (except M4)\n",
        "# All these columns are binary encoded 1/0\n",
        "# We can have some features from it\n",
        "i_cols = ['M1','M2','M3','M5','M6','M7','M8','M9']\n",
        "\n",
        "for df in [train_df, test_df]:\n",
        "    df['M_sum'] = df[i_cols].sum(axis=1).astype(np.int8)\n",
        "    df['M_na'] = df[i_cols].isna().sum(axis=1).astype(np.int8)"
      ],
      "execution_count": 0,
      "outputs": []
    },
    {
      "cell_type": "code",
      "metadata": {
        "colab_type": "code",
        "id": "mqjqlpT0t_IR",
        "outputId": "911c6081-787d-403b-cf9d-c0dbf613c939",
        "colab": {
          "base_uri": "https://localhost:8080/",
          "height": 289
        }
      },
      "source": [
        "########################### Encode Str columns\n",
        "# For all such columns (probably not)\n",
        "# we already did frequency encoding (numeric feature)\n",
        "# so we will use astype('category') here\n",
        "for col in list(train_df):\n",
        "    if train_df[col].dtype=='O':\n",
        "        print(col)\n",
        "        train_df[col] = train_df[col].fillna('unseen_before_label')\n",
        "        test_df[col]  = test_df[col].fillna('unseen_before_label')\n",
        "        \n",
        "        train_df[col] = train_df[col].astype(str)\n",
        "        test_df[col] = test_df[col].astype(str)\n",
        "        \n",
        "        le = LabelEncoder()\n",
        "        le.fit(list(train_df[col])+list(test_df[col]))\n",
        "        train_df[col] = le.transform(train_df[col])\n",
        "        test_df[col]  = le.transform(test_df[col])\n",
        "        \n",
        "        #train_df[col] = train_df[col].astype('category')\n",
        "        #test_df[col] = test_df[col].astype('category')"
      ],
      "execution_count": 37,
      "outputs": [
        {
          "output_type": "stream",
          "text": [
            "P_emaildomain\n",
            "R_emaildomain\n",
            "uid\n",
            "uid2\n",
            "uid3\n",
            "P_emaildomain_prefix\n",
            "R_emaildomain_prefix\n",
            "id_30\n",
            "id_31\n",
            "DeviceType\n",
            "DeviceInfo\n",
            "DeviceInfo_device\n",
            "DeviceInfo_version\n",
            "id_30_device\n",
            "id_30_version\n",
            "id_31_device\n"
          ],
          "name": "stdout"
        }
      ]
    },
    {
      "cell_type": "code",
      "metadata": {
        "colab_type": "code",
        "id": "8GvNg45rt_IS",
        "outputId": "d12e188e-13fa-4657-cd05-042fccfc02d2",
        "colab": {
          "base_uri": "https://localhost:8080/",
          "height": 68
        }
      },
      "source": [
        "train_df = reduce_mem_usage(train_df)\n",
        "test_df = reduce_mem_usage(test_df)\n",
        "gc.collect()"
      ],
      "execution_count": 38,
      "outputs": [
        {
          "output_type": "stream",
          "text": [
            "Mem. usage decreased to 719.75 Mb (32.9% reduction)\n",
            "Mem. usage decreased to 625.28 Mb (32.6% reduction)\n"
          ],
          "name": "stdout"
        },
        {
          "output_type": "execute_result",
          "data": {
            "text/plain": [
              "0"
            ]
          },
          "metadata": {
            "tags": []
          },
          "execution_count": 38
        }
      ]
    },
    {
      "cell_type": "markdown",
      "metadata": {
        "colab_type": "text",
        "id": "qIfRQV8Zt_IS"
      },
      "source": [
        "### **4. Clean up**"
      ]
    },
    {
      "cell_type": "code",
      "metadata": {
        "colab_type": "code",
        "id": "3bV0jq84t_IS",
        "colab": {}
      },
      "source": [
        "for col in list(train_df):\n",
        "    if train_df[col].dtype == 'O':\n",
        "        print(col)"
      ],
      "execution_count": 0,
      "outputs": []
    },
    {
      "cell_type": "code",
      "metadata": {
        "colab_type": "code",
        "id": "-8k44guOt_IU",
        "colab": {}
      },
      "source": [
        "rm_cols = [\n",
        "    'TransactionID','TransactionDT', # These columns are pure noise right now\n",
        "    TARGET,                          # Not target in features))\n",
        "    'uid','uid2','uid3',             # Our new client uID -> very noisy data\n",
        "    'bank_type',                     # Victims bank could differ by time\n",
        "    'DT','DT_M','DT_W','DT_D',       # Temporary Variables\n",
        "    'DT_hour','DT_day_week','DT_day',\n",
        "    'DT_D_total','DT_W_total','DT_M_total',\n",
        "    'id_30','id_31','id_33',\n",
        "]"
      ],
      "execution_count": 0,
      "outputs": []
    },
    {
      "cell_type": "code",
      "metadata": {
        "colab_type": "code",
        "id": "Tbm0ZDwgt_IU",
        "outputId": "bf33fb1e-a583-41cb-ec6d-fa5117b302c5",
        "colab": {
          "base_uri": "https://localhost:8080/",
          "height": 54
        }
      },
      "source": [
        "########################### Features elimination \n",
        "from scipy.stats import ks_2samp\n",
        "features_check = []\n",
        "columns_to_check = set(list(train_df)).difference(base_columns+rm_cols)\n",
        "for i in columns_to_check:\n",
        "    features_check.append(ks_2samp(test_df[i], train_df[i])[1])\n",
        "\n",
        "features_check = pd.Series(features_check, index=columns_to_check).sort_values() \n",
        "features_discard = list(features_check[features_check==0].index)\n",
        "print(features_discard)\n",
        "\n",
        "# We will reset this list for now,\n",
        "# Good droping will be in other kernels\n",
        "# with better checking\n",
        "features_discard = [] \n",
        "\n",
        "# Final features list\n",
        "features_columns = [col for col in list(train_df) if col not in rm_cols + features_discard]"
      ],
      "execution_count": 41,
      "outputs": [
        {
          "output_type": "stream",
          "text": [
            "['M_na', 'TransactionAmt_to_mean_ProductCD', 'uid_DT_D', 'C12_fq_enc', 'D7_fq_enc', 'D3_fq_enc', 'M_sum', 'TransactionAmt_to_std_ProductCD', 'uid_DT_W', 'id_30_version', 'D5_fq_enc', 'D6_fq_enc', 'D4_fq_enc', 'id_31_device']\n"
          ],
          "name": "stdout"
        }
      ]
    },
    {
      "cell_type": "markdown",
      "metadata": {
        "colab_type": "text",
        "id": "s0UGpNbNEzjV"
      },
      "source": [
        "#### **5. XGBoost**"
      ]
    },
    {
      "cell_type": "code",
      "metadata": {
        "colab_type": "code",
        "id": "1RLfod7dEnWn",
        "colab": {}
      },
      "source": [
        "import xgboost as xgb\n",
        "from xgboost import XGBClassifier\n",
        "from sklearn.model_selection import RandomizedSearchCV\n",
        "from sklearn.model_selection import GridSearchCV\n",
        "from sklearn.metrics import classification_report, confusion_matrix, accuracy_score\n",
        "from sklearn.model_selection import ShuffleSplit\n",
        "from sklearn.model_selection import KFold\n",
        "from sklearn.model_selection import cross_val_score"
      ],
      "execution_count": 0,
      "outputs": []
    },
    {
      "cell_type": "code",
      "metadata": {
        "colab_type": "code",
        "id": "OVzEZdkzEnLx",
        "colab": {}
      },
      "source": [
        "x_train = train_df[features_columns]\n",
        "y_train = train_df[TARGET]\n",
        "\n",
        "x_test = test_df[features_columns]"
      ],
      "execution_count": 0,
      "outputs": []
    },
    {
      "cell_type": "code",
      "metadata": {
        "colab_type": "code",
        "id": "O5BZgxNRGxBc",
        "outputId": "84ef5811-a29b-4df6-d123-d56401bdc3f5",
        "colab": {
          "base_uri": "https://localhost:8080/",
          "height": 253
        }
      },
      "source": [
        "x_train.head()"
      ],
      "execution_count": 44,
      "outputs": [
        {
          "output_type": "execute_result",
          "data": {
            "text/html": [
              "<div>\n",
              "<style scoped>\n",
              "    .dataframe tbody tr th:only-of-type {\n",
              "        vertical-align: middle;\n",
              "    }\n",
              "\n",
              "    .dataframe tbody tr th {\n",
              "        vertical-align: top;\n",
              "    }\n",
              "\n",
              "    .dataframe thead th {\n",
              "        text-align: right;\n",
              "    }\n",
              "</style>\n",
              "<table border=\"1\" class=\"dataframe\">\n",
              "  <thead>\n",
              "    <tr style=\"text-align: right;\">\n",
              "      <th></th>\n",
              "      <th>TransactionAmt</th>\n",
              "      <th>ProductCD</th>\n",
              "      <th>card1</th>\n",
              "      <th>card2</th>\n",
              "      <th>card3</th>\n",
              "      <th>card4</th>\n",
              "      <th>card5</th>\n",
              "      <th>card6</th>\n",
              "      <th>addr1</th>\n",
              "      <th>addr2</th>\n",
              "      <th>dist1</th>\n",
              "      <th>dist2</th>\n",
              "      <th>P_emaildomain</th>\n",
              "      <th>R_emaildomain</th>\n",
              "      <th>C1</th>\n",
              "      <th>C2</th>\n",
              "      <th>C3</th>\n",
              "      <th>C4</th>\n",
              "      <th>C5</th>\n",
              "      <th>C6</th>\n",
              "      <th>C7</th>\n",
              "      <th>C8</th>\n",
              "      <th>C9</th>\n",
              "      <th>C10</th>\n",
              "      <th>C11</th>\n",
              "      <th>C12</th>\n",
              "      <th>C13</th>\n",
              "      <th>C14</th>\n",
              "      <th>D1</th>\n",
              "      <th>D2</th>\n",
              "      <th>D3</th>\n",
              "      <th>D4</th>\n",
              "      <th>D5</th>\n",
              "      <th>D6</th>\n",
              "      <th>D7</th>\n",
              "      <th>D8</th>\n",
              "      <th>D9</th>\n",
              "      <th>D10</th>\n",
              "      <th>D11</th>\n",
              "      <th>D12</th>\n",
              "      <th>...</th>\n",
              "      <th>C5_fq_enc</th>\n",
              "      <th>C6_fq_enc</th>\n",
              "      <th>C7_fq_enc</th>\n",
              "      <th>C8_fq_enc</th>\n",
              "      <th>C9_fq_enc</th>\n",
              "      <th>C10_fq_enc</th>\n",
              "      <th>C11_fq_enc</th>\n",
              "      <th>C12_fq_enc</th>\n",
              "      <th>C13_fq_enc</th>\n",
              "      <th>C14_fq_enc</th>\n",
              "      <th>D1_fq_enc</th>\n",
              "      <th>D2_fq_enc</th>\n",
              "      <th>D3_fq_enc</th>\n",
              "      <th>D4_fq_enc</th>\n",
              "      <th>D5_fq_enc</th>\n",
              "      <th>D6_fq_enc</th>\n",
              "      <th>D7_fq_enc</th>\n",
              "      <th>D8_fq_enc</th>\n",
              "      <th>addr1_fq_enc</th>\n",
              "      <th>addr2_fq_enc</th>\n",
              "      <th>dist1_fq_enc</th>\n",
              "      <th>dist2_fq_enc</th>\n",
              "      <th>P_emaildomain_fq_enc</th>\n",
              "      <th>R_emaildomain_fq_enc</th>\n",
              "      <th>DeviceInfo_fq_enc</th>\n",
              "      <th>DeviceInfo_device_fq_enc</th>\n",
              "      <th>DeviceInfo_version_fq_enc</th>\n",
              "      <th>id_30_fq_enc</th>\n",
              "      <th>id_30_device_fq_enc</th>\n",
              "      <th>id_30_version_fq_enc</th>\n",
              "      <th>id_31_device_fq_enc</th>\n",
              "      <th>id_33_fq_enc</th>\n",
              "      <th>uid_fq_enc</th>\n",
              "      <th>uid2_fq_enc</th>\n",
              "      <th>uid3_fq_enc</th>\n",
              "      <th>uid_DT_M</th>\n",
              "      <th>uid_DT_W</th>\n",
              "      <th>uid_DT_D</th>\n",
              "      <th>M_sum</th>\n",
              "      <th>M_na</th>\n",
              "    </tr>\n",
              "  </thead>\n",
              "  <tbody>\n",
              "    <tr>\n",
              "      <th>0</th>\n",
              "      <td>68.5</td>\n",
              "      <td>800657</td>\n",
              "      <td>13928.0</td>\n",
              "      <td>NaN</td>\n",
              "      <td>150.0</td>\n",
              "      <td>9524.0</td>\n",
              "      <td>142.0</td>\n",
              "      <td>267648.0</td>\n",
              "      <td>315.0</td>\n",
              "      <td>87.0</td>\n",
              "      <td>19.0</td>\n",
              "      <td>NaN</td>\n",
              "      <td>12</td>\n",
              "      <td>12</td>\n",
              "      <td>1.0</td>\n",
              "      <td>1.0</td>\n",
              "      <td>0.0</td>\n",
              "      <td>0.0</td>\n",
              "      <td>0.0</td>\n",
              "      <td>1.0</td>\n",
              "      <td>0.0</td>\n",
              "      <td>0.0</td>\n",
              "      <td>1.0</td>\n",
              "      <td>0.0</td>\n",
              "      <td>2.0</td>\n",
              "      <td>0.0</td>\n",
              "      <td>1.0</td>\n",
              "      <td>1.0</td>\n",
              "      <td>14.0</td>\n",
              "      <td>NaN</td>\n",
              "      <td>13.0</td>\n",
              "      <td>NaN</td>\n",
              "      <td>NaN</td>\n",
              "      <td>NaN</td>\n",
              "      <td>NaN</td>\n",
              "      <td>NaN</td>\n",
              "      <td>0</td>\n",
              "      <td>13.0</td>\n",
              "      <td>13.0</td>\n",
              "      <td>NaN</td>\n",
              "      <td>...</td>\n",
              "      <td>707008</td>\n",
              "      <td>631237</td>\n",
              "      <td>961237</td>\n",
              "      <td>816304</td>\n",
              "      <td>420354</td>\n",
              "      <td>824420</td>\n",
              "      <td>168780</td>\n",
              "      <td>856080</td>\n",
              "      <td>367617</td>\n",
              "      <td>598520</td>\n",
              "      <td>5548</td>\n",
              "      <td>515566</td>\n",
              "      <td>11525</td>\n",
              "      <td>245773</td>\n",
              "      <td>534216</td>\n",
              "      <td>899261</td>\n",
              "      <td>998181</td>\n",
              "      <td>947967</td>\n",
              "      <td>43035</td>\n",
              "      <td>956415</td>\n",
              "      <td>4707</td>\n",
              "      <td>1023168</td>\n",
              "      <td>163648</td>\n",
              "      <td>824070</td>\n",
              "      <td>811091</td>\n",
              "      <td>811091</td>\n",
              "      <td>811091</td>\n",
              "      <td>811091</td>\n",
              "      <td>811091</td>\n",
              "      <td>811091</td>\n",
              "      <td>811091</td>\n",
              "      <td>811091</td>\n",
              "      <td>6</td>\n",
              "      <td>6</td>\n",
              "      <td>2</td>\n",
              "      <td>0.000008</td>\n",
              "      <td>0.000021</td>\n",
              "      <td>0.000118</td>\n",
              "      <td>4</td>\n",
              "      <td>3</td>\n",
              "    </tr>\n",
              "    <tr>\n",
              "      <th>1</th>\n",
              "      <td>29.0</td>\n",
              "      <td>800657</td>\n",
              "      <td>2756.0</td>\n",
              "      <td>404.0</td>\n",
              "      <td>150.0</td>\n",
              "      <td>347386.0</td>\n",
              "      <td>102.0</td>\n",
              "      <td>267648.0</td>\n",
              "      <td>325.0</td>\n",
              "      <td>87.0</td>\n",
              "      <td>NaN</td>\n",
              "      <td>NaN</td>\n",
              "      <td>17</td>\n",
              "      <td>12</td>\n",
              "      <td>1.0</td>\n",
              "      <td>1.0</td>\n",
              "      <td>0.0</td>\n",
              "      <td>0.0</td>\n",
              "      <td>0.0</td>\n",
              "      <td>1.0</td>\n",
              "      <td>0.0</td>\n",
              "      <td>0.0</td>\n",
              "      <td>0.0</td>\n",
              "      <td>0.0</td>\n",
              "      <td>1.0</td>\n",
              "      <td>0.0</td>\n",
              "      <td>1.0</td>\n",
              "      <td>1.0</td>\n",
              "      <td>0.0</td>\n",
              "      <td>NaN</td>\n",
              "      <td>NaN</td>\n",
              "      <td>0.0</td>\n",
              "      <td>NaN</td>\n",
              "      <td>NaN</td>\n",
              "      <td>NaN</td>\n",
              "      <td>NaN</td>\n",
              "      <td>0</td>\n",
              "      <td>0.0</td>\n",
              "      <td>NaN</td>\n",
              "      <td>NaN</td>\n",
              "      <td>...</td>\n",
              "      <td>707008</td>\n",
              "      <td>631237</td>\n",
              "      <td>961237</td>\n",
              "      <td>816304</td>\n",
              "      <td>341561</td>\n",
              "      <td>824420</td>\n",
              "      <td>731792</td>\n",
              "      <td>856080</td>\n",
              "      <td>367617</td>\n",
              "      <td>598520</td>\n",
              "      <td>507854</td>\n",
              "      <td>515566</td>\n",
              "      <td>466020</td>\n",
              "      <td>344849</td>\n",
              "      <td>534216</td>\n",
              "      <td>899261</td>\n",
              "      <td>998181</td>\n",
              "      <td>947967</td>\n",
              "      <td>76902</td>\n",
              "      <td>956415</td>\n",
              "      <td>643488</td>\n",
              "      <td>1023168</td>\n",
              "      <td>435803</td>\n",
              "      <td>824070</td>\n",
              "      <td>811091</td>\n",
              "      <td>811091</td>\n",
              "      <td>811091</td>\n",
              "      <td>811091</td>\n",
              "      <td>811091</td>\n",
              "      <td>811091</td>\n",
              "      <td>811091</td>\n",
              "      <td>811091</td>\n",
              "      <td>1328</td>\n",
              "      <td>1328</td>\n",
              "      <td>105</td>\n",
              "      <td>0.001053</td>\n",
              "      <td>0.001380</td>\n",
              "      <td>0.001065</td>\n",
              "      <td>2</td>\n",
              "      <td>6</td>\n",
              "    </tr>\n",
              "    <tr>\n",
              "      <th>2</th>\n",
              "      <td>59.0</td>\n",
              "      <td>800657</td>\n",
              "      <td>4664.0</td>\n",
              "      <td>490.0</td>\n",
              "      <td>150.0</td>\n",
              "      <td>719649.0</td>\n",
              "      <td>166.0</td>\n",
              "      <td>824959.0</td>\n",
              "      <td>330.0</td>\n",
              "      <td>87.0</td>\n",
              "      <td>287.0</td>\n",
              "      <td>NaN</td>\n",
              "      <td>36</td>\n",
              "      <td>12</td>\n",
              "      <td>1.0</td>\n",
              "      <td>1.0</td>\n",
              "      <td>0.0</td>\n",
              "      <td>0.0</td>\n",
              "      <td>0.0</td>\n",
              "      <td>1.0</td>\n",
              "      <td>0.0</td>\n",
              "      <td>0.0</td>\n",
              "      <td>1.0</td>\n",
              "      <td>0.0</td>\n",
              "      <td>1.0</td>\n",
              "      <td>0.0</td>\n",
              "      <td>1.0</td>\n",
              "      <td>1.0</td>\n",
              "      <td>0.0</td>\n",
              "      <td>NaN</td>\n",
              "      <td>NaN</td>\n",
              "      <td>0.0</td>\n",
              "      <td>NaN</td>\n",
              "      <td>NaN</td>\n",
              "      <td>NaN</td>\n",
              "      <td>NaN</td>\n",
              "      <td>0</td>\n",
              "      <td>0.0</td>\n",
              "      <td>315.0</td>\n",
              "      <td>NaN</td>\n",
              "      <td>...</td>\n",
              "      <td>707008</td>\n",
              "      <td>631237</td>\n",
              "      <td>961237</td>\n",
              "      <td>816304</td>\n",
              "      <td>420354</td>\n",
              "      <td>824420</td>\n",
              "      <td>731792</td>\n",
              "      <td>856080</td>\n",
              "      <td>367617</td>\n",
              "      <td>598520</td>\n",
              "      <td>507854</td>\n",
              "      <td>515566</td>\n",
              "      <td>466020</td>\n",
              "      <td>344849</td>\n",
              "      <td>534216</td>\n",
              "      <td>899261</td>\n",
              "      <td>998181</td>\n",
              "      <td>947967</td>\n",
              "      <td>48387</td>\n",
              "      <td>956415</td>\n",
              "      <td>38</td>\n",
              "      <td>1023168</td>\n",
              "      <td>9934</td>\n",
              "      <td>824070</td>\n",
              "      <td>811091</td>\n",
              "      <td>811091</td>\n",
              "      <td>811091</td>\n",
              "      <td>811091</td>\n",
              "      <td>811091</td>\n",
              "      <td>811091</td>\n",
              "      <td>811091</td>\n",
              "      <td>811091</td>\n",
              "      <td>1787</td>\n",
              "      <td>1787</td>\n",
              "      <td>46</td>\n",
              "      <td>0.001163</td>\n",
              "      <td>0.001464</td>\n",
              "      <td>0.001538</td>\n",
              "      <td>3</td>\n",
              "      <td>0</td>\n",
              "    </tr>\n",
              "    <tr>\n",
              "      <th>3</th>\n",
              "      <td>50.0</td>\n",
              "      <td>800657</td>\n",
              "      <td>18128.0</td>\n",
              "      <td>567.0</td>\n",
              "      <td>150.0</td>\n",
              "      <td>347386.0</td>\n",
              "      <td>117.0</td>\n",
              "      <td>824959.0</td>\n",
              "      <td>476.0</td>\n",
              "      <td>87.0</td>\n",
              "      <td>NaN</td>\n",
              "      <td>NaN</td>\n",
              "      <td>55</td>\n",
              "      <td>12</td>\n",
              "      <td>2.0</td>\n",
              "      <td>5.0</td>\n",
              "      <td>0.0</td>\n",
              "      <td>0.0</td>\n",
              "      <td>0.0</td>\n",
              "      <td>4.0</td>\n",
              "      <td>0.0</td>\n",
              "      <td>0.0</td>\n",
              "      <td>1.0</td>\n",
              "      <td>0.0</td>\n",
              "      <td>1.0</td>\n",
              "      <td>0.0</td>\n",
              "      <td>25.0</td>\n",
              "      <td>1.0</td>\n",
              "      <td>112.0</td>\n",
              "      <td>112.0</td>\n",
              "      <td>0.0</td>\n",
              "      <td>94.0</td>\n",
              "      <td>0.0</td>\n",
              "      <td>NaN</td>\n",
              "      <td>NaN</td>\n",
              "      <td>NaN</td>\n",
              "      <td>0</td>\n",
              "      <td>84.0</td>\n",
              "      <td>NaN</td>\n",
              "      <td>NaN</td>\n",
              "      <td>...</td>\n",
              "      <td>707008</td>\n",
              "      <td>34225</td>\n",
              "      <td>961237</td>\n",
              "      <td>816304</td>\n",
              "      <td>420354</td>\n",
              "      <td>824420</td>\n",
              "      <td>731792</td>\n",
              "      <td>856080</td>\n",
              "      <td>5659</td>\n",
              "      <td>598520</td>\n",
              "      <td>1440</td>\n",
              "      <td>1374</td>\n",
              "      <td>146326</td>\n",
              "      <td>894</td>\n",
              "      <td>139264</td>\n",
              "      <td>899261</td>\n",
              "      <td>998181</td>\n",
              "      <td>947967</td>\n",
              "      <td>17455</td>\n",
              "      <td>956415</td>\n",
              "      <td>643488</td>\n",
              "      <td>1023168</td>\n",
              "      <td>182784</td>\n",
              "      <td>824070</td>\n",
              "      <td>811091</td>\n",
              "      <td>811091</td>\n",
              "      <td>811091</td>\n",
              "      <td>811091</td>\n",
              "      <td>811091</td>\n",
              "      <td>811091</td>\n",
              "      <td>811091</td>\n",
              "      <td>811091</td>\n",
              "      <td>7602</td>\n",
              "      <td>7602</td>\n",
              "      <td>362</td>\n",
              "      <td>0.005783</td>\n",
              "      <td>0.007298</td>\n",
              "      <td>0.010292</td>\n",
              "      <td>1</td>\n",
              "      <td>6</td>\n",
              "    </tr>\n",
              "    <tr>\n",
              "      <th>4</th>\n",
              "      <td>50.0</td>\n",
              "      <td>62397</td>\n",
              "      <td>4496.0</td>\n",
              "      <td>514.0</td>\n",
              "      <td>150.0</td>\n",
              "      <td>347386.0</td>\n",
              "      <td>102.0</td>\n",
              "      <td>267648.0</td>\n",
              "      <td>420.0</td>\n",
              "      <td>87.0</td>\n",
              "      <td>NaN</td>\n",
              "      <td>NaN</td>\n",
              "      <td>17</td>\n",
              "      <td>12</td>\n",
              "      <td>1.0</td>\n",
              "      <td>1.0</td>\n",
              "      <td>0.0</td>\n",
              "      <td>0.0</td>\n",
              "      <td>0.0</td>\n",
              "      <td>1.0</td>\n",
              "      <td>0.0</td>\n",
              "      <td>1.0</td>\n",
              "      <td>0.0</td>\n",
              "      <td>1.0</td>\n",
              "      <td>1.0</td>\n",
              "      <td>0.0</td>\n",
              "      <td>1.0</td>\n",
              "      <td>1.0</td>\n",
              "      <td>0.0</td>\n",
              "      <td>NaN</td>\n",
              "      <td>NaN</td>\n",
              "      <td>NaN</td>\n",
              "      <td>NaN</td>\n",
              "      <td>NaN</td>\n",
              "      <td>NaN</td>\n",
              "      <td>NaN</td>\n",
              "      <td>0</td>\n",
              "      <td>NaN</td>\n",
              "      <td>NaN</td>\n",
              "      <td>NaN</td>\n",
              "      <td>...</td>\n",
              "      <td>707008</td>\n",
              "      <td>631237</td>\n",
              "      <td>961237</td>\n",
              "      <td>202326</td>\n",
              "      <td>341561</td>\n",
              "      <td>192574</td>\n",
              "      <td>731792</td>\n",
              "      <td>856080</td>\n",
              "      <td>367617</td>\n",
              "      <td>598520</td>\n",
              "      <td>507854</td>\n",
              "      <td>515566</td>\n",
              "      <td>466020</td>\n",
              "      <td>245773</td>\n",
              "      <td>534216</td>\n",
              "      <td>899261</td>\n",
              "      <td>998181</td>\n",
              "      <td>947967</td>\n",
              "      <td>7107</td>\n",
              "      <td>956415</td>\n",
              "      <td>643488</td>\n",
              "      <td>1023168</td>\n",
              "      <td>435803</td>\n",
              "      <td>824070</td>\n",
              "      <td>9</td>\n",
              "      <td>358</td>\n",
              "      <td>9</td>\n",
              "      <td>3573</td>\n",
              "      <td>11783</td>\n",
              "      <td>3573</td>\n",
              "      <td>4294</td>\n",
              "      <td>1430</td>\n",
              "      <td>30</td>\n",
              "      <td>30</td>\n",
              "      <td>1</td>\n",
              "      <td>0.000027</td>\n",
              "      <td>0.000042</td>\n",
              "      <td>0.000118</td>\n",
              "      <td>0</td>\n",
              "      <td>8</td>\n",
              "    </tr>\n",
              "  </tbody>\n",
              "</table>\n",
              "<p>5 rows × 513 columns</p>\n",
              "</div>"
            ],
            "text/plain": [
              "   TransactionAmt  ProductCD    card1  card2  ...  uid_DT_W  uid_DT_D  M_sum  M_na\n",
              "0            68.5     800657  13928.0    NaN  ...  0.000021  0.000118      4     3\n",
              "1            29.0     800657   2756.0  404.0  ...  0.001380  0.001065      2     6\n",
              "2            59.0     800657   4664.0  490.0  ...  0.001464  0.001538      3     0\n",
              "3            50.0     800657  18128.0  567.0  ...  0.007298  0.010292      1     6\n",
              "4            50.0      62397   4496.0  514.0  ...  0.000042  0.000118      0     8\n",
              "\n",
              "[5 rows x 513 columns]"
            ]
          },
          "metadata": {
            "tags": []
          },
          "execution_count": 44
        }
      ]
    },
    {
      "cell_type": "code",
      "metadata": {
        "colab_type": "code",
        "id": "8yhZ1fswqS_-",
        "colab": {}
      },
      "source": [
        "#hasattr(x_train['P_emaildomain'],'cat')"
      ],
      "execution_count": 0,
      "outputs": []
    },
    {
      "cell_type": "markdown",
      "metadata": {
        "id": "bWcm8hQY5Eif",
        "colab_type": "text"
      },
      "source": [
        "**Input Normalization**"
      ]
    },
    {
      "cell_type": "code",
      "metadata": {
        "colab_type": "code",
        "id": "BAAkfFufEnBB",
        "outputId": "76ec3517-bf39-4870-ec10-29f920a1ad3a",
        "colab": {
          "base_uri": "https://localhost:8080/",
          "height": 253
        }
      },
      "source": [
        "x_train_cols = list(x_train)\n",
        "\n",
        "for i in x_train_cols:\n",
        "    if not hasattr(x_train[i],'cat'):\n",
        "      mean = np.nanmean(x_train[[i]].values.astype('float64'))\n",
        "      std = np.nanstd(x_train[[i]].values.astype('float64'))\n",
        "      #print(i, mean, std)\n",
        "      x_train[[i]] = (x_train[[i]] - mean)/std\n",
        "  \n",
        "# Check\n",
        "x_train.head()"
      ],
      "execution_count": 46,
      "outputs": [
        {
          "output_type": "execute_result",
          "data": {
            "text/html": [
              "<div>\n",
              "<style scoped>\n",
              "    .dataframe tbody tr th:only-of-type {\n",
              "        vertical-align: middle;\n",
              "    }\n",
              "\n",
              "    .dataframe tbody tr th {\n",
              "        vertical-align: top;\n",
              "    }\n",
              "\n",
              "    .dataframe thead th {\n",
              "        text-align: right;\n",
              "    }\n",
              "</style>\n",
              "<table border=\"1\" class=\"dataframe\">\n",
              "  <thead>\n",
              "    <tr style=\"text-align: right;\">\n",
              "      <th></th>\n",
              "      <th>TransactionAmt</th>\n",
              "      <th>ProductCD</th>\n",
              "      <th>card1</th>\n",
              "      <th>card2</th>\n",
              "      <th>card3</th>\n",
              "      <th>card4</th>\n",
              "      <th>card5</th>\n",
              "      <th>card6</th>\n",
              "      <th>addr1</th>\n",
              "      <th>addr2</th>\n",
              "      <th>dist1</th>\n",
              "      <th>dist2</th>\n",
              "      <th>P_emaildomain</th>\n",
              "      <th>R_emaildomain</th>\n",
              "      <th>C1</th>\n",
              "      <th>C2</th>\n",
              "      <th>C3</th>\n",
              "      <th>C4</th>\n",
              "      <th>C5</th>\n",
              "      <th>C6</th>\n",
              "      <th>C7</th>\n",
              "      <th>C8</th>\n",
              "      <th>C9</th>\n",
              "      <th>C10</th>\n",
              "      <th>C11</th>\n",
              "      <th>C12</th>\n",
              "      <th>C13</th>\n",
              "      <th>C14</th>\n",
              "      <th>D1</th>\n",
              "      <th>D2</th>\n",
              "      <th>D3</th>\n",
              "      <th>D4</th>\n",
              "      <th>D5</th>\n",
              "      <th>D6</th>\n",
              "      <th>D7</th>\n",
              "      <th>D8</th>\n",
              "      <th>D9</th>\n",
              "      <th>D10</th>\n",
              "      <th>D11</th>\n",
              "      <th>D12</th>\n",
              "      <th>...</th>\n",
              "      <th>C5_fq_enc</th>\n",
              "      <th>C6_fq_enc</th>\n",
              "      <th>C7_fq_enc</th>\n",
              "      <th>C8_fq_enc</th>\n",
              "      <th>C9_fq_enc</th>\n",
              "      <th>C10_fq_enc</th>\n",
              "      <th>C11_fq_enc</th>\n",
              "      <th>C12_fq_enc</th>\n",
              "      <th>C13_fq_enc</th>\n",
              "      <th>C14_fq_enc</th>\n",
              "      <th>D1_fq_enc</th>\n",
              "      <th>D2_fq_enc</th>\n",
              "      <th>D3_fq_enc</th>\n",
              "      <th>D4_fq_enc</th>\n",
              "      <th>D5_fq_enc</th>\n",
              "      <th>D6_fq_enc</th>\n",
              "      <th>D7_fq_enc</th>\n",
              "      <th>D8_fq_enc</th>\n",
              "      <th>addr1_fq_enc</th>\n",
              "      <th>addr2_fq_enc</th>\n",
              "      <th>dist1_fq_enc</th>\n",
              "      <th>dist2_fq_enc</th>\n",
              "      <th>P_emaildomain_fq_enc</th>\n",
              "      <th>R_emaildomain_fq_enc</th>\n",
              "      <th>DeviceInfo_fq_enc</th>\n",
              "      <th>DeviceInfo_device_fq_enc</th>\n",
              "      <th>DeviceInfo_version_fq_enc</th>\n",
              "      <th>id_30_fq_enc</th>\n",
              "      <th>id_30_device_fq_enc</th>\n",
              "      <th>id_30_version_fq_enc</th>\n",
              "      <th>id_31_device_fq_enc</th>\n",
              "      <th>id_33_fq_enc</th>\n",
              "      <th>uid_fq_enc</th>\n",
              "      <th>uid2_fq_enc</th>\n",
              "      <th>uid3_fq_enc</th>\n",
              "      <th>uid_DT_M</th>\n",
              "      <th>uid_DT_W</th>\n",
              "      <th>uid_DT_D</th>\n",
              "      <th>M_sum</th>\n",
              "      <th>M_na</th>\n",
              "    </tr>\n",
              "  </thead>\n",
              "  <tbody>\n",
              "    <tr>\n",
              "      <th>0</th>\n",
              "      <td>-0.278076</td>\n",
              "      <td>0.584537</td>\n",
              "      <td>0.821289</td>\n",
              "      <td>NaN</td>\n",
              "      <td>-0.286621</td>\n",
              "      <td>-2.925913</td>\n",
              "      <td>-1.387695</td>\n",
              "      <td>-1.717722</td>\n",
              "      <td>0.238281</td>\n",
              "      <td>0.069641</td>\n",
              "      <td>-0.267578</td>\n",
              "      <td>NaN</td>\n",
              "      <td>-0.598354</td>\n",
              "      <td>-0.230026</td>\n",
              "      <td>-0.097961</td>\n",
              "      <td>-0.092285</td>\n",
              "      <td>-0.037506</td>\n",
              "      <td>-0.059448</td>\n",
              "      <td>-0.216064</td>\n",
              "      <td>-0.112854</td>\n",
              "      <td>-0.046143</td>\n",
              "      <td>-0.053955</td>\n",
              "      <td>-0.208740</td>\n",
              "      <td>-0.054871</td>\n",
              "      <td>-0.087402</td>\n",
              "      <td>-0.047058</td>\n",
              "      <td>-0.243774</td>\n",
              "      <td>-0.147339</td>\n",
              "      <td>-0.509766</td>\n",
              "      <td>NaN</td>\n",
              "      <td>-0.245972</td>\n",
              "      <td>NaN</td>\n",
              "      <td>NaN</td>\n",
              "      <td>NaN</td>\n",
              "      <td>NaN</td>\n",
              "      <td>NaN</td>\n",
              "      <td>-0.381201</td>\n",
              "      <td>-0.607910</td>\n",
              "      <td>-0.718262</td>\n",
              "      <td>NaN</td>\n",
              "      <td>...</td>\n",
              "      <td>0.748448</td>\n",
              "      <td>0.844459</td>\n",
              "      <td>0.358527</td>\n",
              "      <td>0.559308</td>\n",
              "      <td>0.859587</td>\n",
              "      <td>0.545156</td>\n",
              "      <td>-1.121803</td>\n",
              "      <td>0.452326</td>\n",
              "      <td>1.376934</td>\n",
              "      <td>0.904384</td>\n",
              "      <td>-0.937475</td>\n",
              "      <td>1.050132</td>\n",
              "      <td>-1.024204</td>\n",
              "      <td>0.516835</td>\n",
              "      <td>0.940568</td>\n",
              "      <td>0.374887</td>\n",
              "      <td>0.265511</td>\n",
              "      <td>0.381201</td>\n",
              "      <td>-0.209742</td>\n",
              "      <td>0.366607</td>\n",
              "      <td>-1.254167</td>\n",
              "      <td>0.260867</td>\n",
              "      <td>-0.467163</td>\n",
              "      <td>0.549083</td>\n",
              "      <td>0.567652</td>\n",
              "      <td>0.567663</td>\n",
              "      <td>0.561385</td>\n",
              "      <td>0.565868</td>\n",
              "      <td>0.566837</td>\n",
              "      <td>0.565603</td>\n",
              "      <td>0.567534</td>\n",
              "      <td>0.56555</td>\n",
              "      <td>-0.674009</td>\n",
              "      <td>-0.666384</td>\n",
              "      <td>-0.436816</td>\n",
              "      <td>-0.681152</td>\n",
              "      <td>-0.561523</td>\n",
              "      <td>-0.428467</td>\n",
              "      <td>0.637593</td>\n",
              "      <td>-0.311587</td>\n",
              "    </tr>\n",
              "    <tr>\n",
              "      <th>1</th>\n",
              "      <td>-0.443359</td>\n",
              "      <td>0.584537</td>\n",
              "      <td>-1.458984</td>\n",
              "      <td>0.263184</td>\n",
              "      <td>-0.286621</td>\n",
              "      <td>-1.199357</td>\n",
              "      <td>-2.357422</td>\n",
              "      <td>-1.717722</td>\n",
              "      <td>0.336670</td>\n",
              "      <td>0.069641</td>\n",
              "      <td>NaN</td>\n",
              "      <td>NaN</td>\n",
              "      <td>-0.303544</td>\n",
              "      <td>-0.230026</td>\n",
              "      <td>-0.097961</td>\n",
              "      <td>-0.092285</td>\n",
              "      <td>-0.037506</td>\n",
              "      <td>-0.059448</td>\n",
              "      <td>-0.216064</td>\n",
              "      <td>-0.112854</td>\n",
              "      <td>-0.046143</td>\n",
              "      <td>-0.053955</td>\n",
              "      <td>-0.268799</td>\n",
              "      <td>-0.054871</td>\n",
              "      <td>-0.098022</td>\n",
              "      <td>-0.047058</td>\n",
              "      <td>-0.243774</td>\n",
              "      <td>-0.147339</td>\n",
              "      <td>-0.598633</td>\n",
              "      <td>NaN</td>\n",
              "      <td>NaN</td>\n",
              "      <td>-0.732422</td>\n",
              "      <td>NaN</td>\n",
              "      <td>NaN</td>\n",
              "      <td>NaN</td>\n",
              "      <td>NaN</td>\n",
              "      <td>-0.381201</td>\n",
              "      <td>-0.679199</td>\n",
              "      <td>NaN</td>\n",
              "      <td>NaN</td>\n",
              "      <td>...</td>\n",
              "      <td>0.748448</td>\n",
              "      <td>0.844459</td>\n",
              "      <td>0.358527</td>\n",
              "      <td>0.559308</td>\n",
              "      <td>0.325968</td>\n",
              "      <td>0.545156</td>\n",
              "      <td>0.710881</td>\n",
              "      <td>0.452326</td>\n",
              "      <td>1.376934</td>\n",
              "      <td>0.904384</td>\n",
              "      <td>1.052616</td>\n",
              "      <td>1.050132</td>\n",
              "      <td>1.094798</td>\n",
              "      <td>1.176750</td>\n",
              "      <td>0.940568</td>\n",
              "      <td>0.374887</td>\n",
              "      <td>0.265511</td>\n",
              "      <td>0.381201</td>\n",
              "      <td>0.662275</td>\n",
              "      <td>0.366607</td>\n",
              "      <td>0.822101</td>\n",
              "      <td>0.260867</td>\n",
              "      <td>1.195447</td>\n",
              "      <td>0.549083</td>\n",
              "      <td>0.567652</td>\n",
              "      <td>0.567663</td>\n",
              "      <td>0.561385</td>\n",
              "      <td>0.565868</td>\n",
              "      <td>0.566837</td>\n",
              "      <td>0.565603</td>\n",
              "      <td>0.567534</td>\n",
              "      <td>0.56555</td>\n",
              "      <td>-0.485784</td>\n",
              "      <td>-0.477891</td>\n",
              "      <td>-0.406367</td>\n",
              "      <td>-0.522461</td>\n",
              "      <td>-0.408936</td>\n",
              "      <td>-0.358887</td>\n",
              "      <td>-0.221011</td>\n",
              "      <td>0.607990</td>\n",
              "    </tr>\n",
              "    <tr>\n",
              "      <th>2</th>\n",
              "      <td>-0.317871</td>\n",
              "      <td>0.584537</td>\n",
              "      <td>-1.069336</td>\n",
              "      <td>0.808105</td>\n",
              "      <td>-0.286621</td>\n",
              "      <td>0.702997</td>\n",
              "      <td>-0.806152</td>\n",
              "      <td>0.581999</td>\n",
              "      <td>0.385742</td>\n",
              "      <td>0.069641</td>\n",
              "      <td>0.453369</td>\n",
              "      <td>NaN</td>\n",
              "      <td>0.816731</td>\n",
              "      <td>-0.230026</td>\n",
              "      <td>-0.097961</td>\n",
              "      <td>-0.092285</td>\n",
              "      <td>-0.037506</td>\n",
              "      <td>-0.059448</td>\n",
              "      <td>-0.216064</td>\n",
              "      <td>-0.112854</td>\n",
              "      <td>-0.046143</td>\n",
              "      <td>-0.053955</td>\n",
              "      <td>-0.208740</td>\n",
              "      <td>-0.054871</td>\n",
              "      <td>-0.098022</td>\n",
              "      <td>-0.047058</td>\n",
              "      <td>-0.243774</td>\n",
              "      <td>-0.147339</td>\n",
              "      <td>-0.598633</td>\n",
              "      <td>NaN</td>\n",
              "      <td>NaN</td>\n",
              "      <td>-0.732422</td>\n",
              "      <td>NaN</td>\n",
              "      <td>NaN</td>\n",
              "      <td>NaN</td>\n",
              "      <td>NaN</td>\n",
              "      <td>-0.381201</td>\n",
              "      <td>-0.679199</td>\n",
              "      <td>0.905273</td>\n",
              "      <td>NaN</td>\n",
              "      <td>...</td>\n",
              "      <td>0.748448</td>\n",
              "      <td>0.844459</td>\n",
              "      <td>0.358527</td>\n",
              "      <td>0.559308</td>\n",
              "      <td>0.859587</td>\n",
              "      <td>0.545156</td>\n",
              "      <td>0.710881</td>\n",
              "      <td>0.452326</td>\n",
              "      <td>1.376934</td>\n",
              "      <td>0.904384</td>\n",
              "      <td>1.052616</td>\n",
              "      <td>1.050132</td>\n",
              "      <td>1.094798</td>\n",
              "      <td>1.176750</td>\n",
              "      <td>0.940568</td>\n",
              "      <td>0.374887</td>\n",
              "      <td>0.265511</td>\n",
              "      <td>0.381201</td>\n",
              "      <td>-0.071937</td>\n",
              "      <td>0.366607</td>\n",
              "      <td>-1.269343</td>\n",
              "      <td>0.260867</td>\n",
              "      <td>-1.406211</td>\n",
              "      <td>0.549083</td>\n",
              "      <td>0.567652</td>\n",
              "      <td>0.567663</td>\n",
              "      <td>0.561385</td>\n",
              "      <td>0.565868</td>\n",
              "      <td>0.566837</td>\n",
              "      <td>0.565603</td>\n",
              "      <td>0.567534</td>\n",
              "      <td>0.56555</td>\n",
              "      <td>-0.420432</td>\n",
              "      <td>-0.412446</td>\n",
              "      <td>-0.423809</td>\n",
              "      <td>-0.505859</td>\n",
              "      <td>-0.399414</td>\n",
              "      <td>-0.324219</td>\n",
              "      <td>0.208291</td>\n",
              "      <td>-1.231165</td>\n",
              "    </tr>\n",
              "    <tr>\n",
              "      <th>3</th>\n",
              "      <td>-0.355469</td>\n",
              "      <td>0.584537</td>\n",
              "      <td>1.678711</td>\n",
              "      <td>1.295898</td>\n",
              "      <td>-0.286621</td>\n",
              "      <td>-1.199357</td>\n",
              "      <td>-1.994141</td>\n",
              "      <td>0.581999</td>\n",
              "      <td>1.820312</td>\n",
              "      <td>0.069641</td>\n",
              "      <td>NaN</td>\n",
              "      <td>NaN</td>\n",
              "      <td>1.937006</td>\n",
              "      <td>-0.230026</td>\n",
              "      <td>-0.090515</td>\n",
              "      <td>-0.066467</td>\n",
              "      <td>-0.037506</td>\n",
              "      <td>-0.059448</td>\n",
              "      <td>-0.216064</td>\n",
              "      <td>-0.070923</td>\n",
              "      <td>-0.046143</td>\n",
              "      <td>-0.053955</td>\n",
              "      <td>-0.208740</td>\n",
              "      <td>-0.054871</td>\n",
              "      <td>-0.098022</td>\n",
              "      <td>-0.047058</td>\n",
              "      <td>-0.058228</td>\n",
              "      <td>-0.147339</td>\n",
              "      <td>0.111816</td>\n",
              "      <td>-0.324951</td>\n",
              "      <td>-0.454346</td>\n",
              "      <td>-0.240723</td>\n",
              "      <td>-0.47583</td>\n",
              "      <td>NaN</td>\n",
              "      <td>NaN</td>\n",
              "      <td>NaN</td>\n",
              "      <td>-0.381201</td>\n",
              "      <td>-0.218994</td>\n",
              "      <td>NaN</td>\n",
              "      <td>NaN</td>\n",
              "      <td>...</td>\n",
              "      <td>0.748448</td>\n",
              "      <td>-1.356282</td>\n",
              "      <td>0.358527</td>\n",
              "      <td>0.559308</td>\n",
              "      <td>0.859587</td>\n",
              "      <td>0.545156</td>\n",
              "      <td>0.710881</td>\n",
              "      <td>0.452326</td>\n",
              "      <td>-0.899493</td>\n",
              "      <td>0.904384</td>\n",
              "      <td>-0.953751</td>\n",
              "      <td>-0.959769</td>\n",
              "      <td>-0.395718</td>\n",
              "      <td>-1.114230</td>\n",
              "      <td>-0.638560</td>\n",
              "      <td>0.374887</td>\n",
              "      <td>0.265511</td>\n",
              "      <td>0.381201</td>\n",
              "      <td>-0.868383</td>\n",
              "      <td>0.366607</td>\n",
              "      <td>0.822101</td>\n",
              "      <td>0.260867</td>\n",
              "      <td>-0.350260</td>\n",
              "      <td>0.549083</td>\n",
              "      <td>0.567652</td>\n",
              "      <td>0.567663</td>\n",
              "      <td>0.561385</td>\n",
              "      <td>0.565868</td>\n",
              "      <td>0.566837</td>\n",
              "      <td>0.565603</td>\n",
              "      <td>0.567534</td>\n",
              "      <td>0.56555</td>\n",
              "      <td>0.407502</td>\n",
              "      <td>0.416666</td>\n",
              "      <td>-0.330392</td>\n",
              "      <td>0.195801</td>\n",
              "      <td>0.254395</td>\n",
              "      <td>0.317871</td>\n",
              "      <td>-0.650313</td>\n",
              "      <td>0.607990</td>\n",
              "    </tr>\n",
              "    <tr>\n",
              "      <th>4</th>\n",
              "      <td>-0.355469</td>\n",
              "      <td>-1.813735</td>\n",
              "      <td>-1.103516</td>\n",
              "      <td>0.960449</td>\n",
              "      <td>-0.286621</td>\n",
              "      <td>-1.199357</td>\n",
              "      <td>-2.357422</td>\n",
              "      <td>-1.717722</td>\n",
              "      <td>1.270508</td>\n",
              "      <td>0.069641</td>\n",
              "      <td>NaN</td>\n",
              "      <td>NaN</td>\n",
              "      <td>-0.303544</td>\n",
              "      <td>-0.230026</td>\n",
              "      <td>-0.097961</td>\n",
              "      <td>-0.092285</td>\n",
              "      <td>-0.037506</td>\n",
              "      <td>-0.059448</td>\n",
              "      <td>-0.216064</td>\n",
              "      <td>-0.112854</td>\n",
              "      <td>-0.046143</td>\n",
              "      <td>-0.043457</td>\n",
              "      <td>-0.268799</td>\n",
              "      <td>-0.044403</td>\n",
              "      <td>-0.098022</td>\n",
              "      <td>-0.047058</td>\n",
              "      <td>-0.243774</td>\n",
              "      <td>-0.147339</td>\n",
              "      <td>-0.598633</td>\n",
              "      <td>NaN</td>\n",
              "      <td>NaN</td>\n",
              "      <td>NaN</td>\n",
              "      <td>NaN</td>\n",
              "      <td>NaN</td>\n",
              "      <td>NaN</td>\n",
              "      <td>NaN</td>\n",
              "      <td>-0.381201</td>\n",
              "      <td>NaN</td>\n",
              "      <td>NaN</td>\n",
              "      <td>NaN</td>\n",
              "      <td>...</td>\n",
              "      <td>0.748448</td>\n",
              "      <td>0.844459</td>\n",
              "      <td>0.358527</td>\n",
              "      <td>-1.581339</td>\n",
              "      <td>0.325968</td>\n",
              "      <td>-1.639410</td>\n",
              "      <td>0.710881</td>\n",
              "      <td>0.452326</td>\n",
              "      <td>1.376934</td>\n",
              "      <td>0.904384</td>\n",
              "      <td>1.052616</td>\n",
              "      <td>1.050132</td>\n",
              "      <td>1.094798</td>\n",
              "      <td>0.516835</td>\n",
              "      <td>0.940568</td>\n",
              "      <td>0.374887</td>\n",
              "      <td>0.265511</td>\n",
              "      <td>0.381201</td>\n",
              "      <td>-1.134826</td>\n",
              "      <td>0.366607</td>\n",
              "      <td>0.822101</td>\n",
              "      <td>0.260867</td>\n",
              "      <td>1.195447</td>\n",
              "      <td>0.549083</td>\n",
              "      <td>-1.902761</td>\n",
              "      <td>-1.902378</td>\n",
              "      <td>-2.283028</td>\n",
              "      <td>-1.968068</td>\n",
              "      <td>-2.003377</td>\n",
              "      <td>-1.987168</td>\n",
              "      <td>-1.894038</td>\n",
              "      <td>-1.98704</td>\n",
              "      <td>-0.670592</td>\n",
              "      <td>-0.662962</td>\n",
              "      <td>-0.437112</td>\n",
              "      <td>-0.678223</td>\n",
              "      <td>-0.559082</td>\n",
              "      <td>-0.428467</td>\n",
              "      <td>-1.079615</td>\n",
              "      <td>1.221042</td>\n",
              "    </tr>\n",
              "  </tbody>\n",
              "</table>\n",
              "<p>5 rows × 513 columns</p>\n",
              "</div>"
            ],
            "text/plain": [
              "   TransactionAmt  ProductCD     card1  ...  uid_DT_D     M_sum      M_na\n",
              "0       -0.278076   0.584537  0.821289  ... -0.428467  0.637593 -0.311587\n",
              "1       -0.443359   0.584537 -1.458984  ... -0.358887 -0.221011  0.607990\n",
              "2       -0.317871   0.584537 -1.069336  ... -0.324219  0.208291 -1.231165\n",
              "3       -0.355469   0.584537  1.678711  ...  0.317871 -0.650313  0.607990\n",
              "4       -0.355469  -1.813735 -1.103516  ... -0.428467 -1.079615  1.221042\n",
              "\n",
              "[5 rows x 513 columns]"
            ]
          },
          "metadata": {
            "tags": []
          },
          "execution_count": 46
        }
      ]
    },
    {
      "cell_type": "markdown",
      "metadata": {
        "id": "y6X95kUl5I7M",
        "colab_type": "text"
      },
      "source": [
        "We actually do not have labels in the test set (as this was taken from a Kaggle competition). What we do here is to split the training set into train & validation sets. The model would be evaluated on the validation part."
      ]
    },
    {
      "cell_type": "code",
      "metadata": {
        "colab_type": "code",
        "id": "m02NwNQMxieN",
        "colab": {}
      },
      "source": [
        "tr_x, vl_x, tr_y, vl_y = train_test_split( x_train, y_train, test_size=0.2, random_state=42, stratify=y_train)"
      ],
      "execution_count": 0,
      "outputs": []
    },
    {
      "cell_type": "markdown",
      "metadata": {
        "id": "C6iJInU45svd",
        "colab_type": "text"
      },
      "source": [
        "**Below are the best parameters we have after several tuning rounds**"
      ]
    },
    {
      "cell_type": "code",
      "metadata": {
        "colab_type": "code",
        "id": "GvC6xuJ52cET",
        "colab": {}
      },
      "source": [
        "best_n_estimators = 1000\n",
        "best_max_depth = 6\n",
        "best_min_child_weight = 4\n",
        "best_gamma = 0\n",
        "best_subsample = 0.8\n",
        "best_colsample_bytree = 0.8"
      ],
      "execution_count": 0,
      "outputs": []
    },
    {
      "cell_type": "code",
      "metadata": {
        "colab_type": "code",
        "id": "lhjMQNoS1aUD",
        "colab": {}
      },
      "source": [
        "def modelfit(tr_x, vl_x, tr_y, vl_y, n, d, w, g, sub, col):\n",
        "    # Create a Classifier\n",
        "    xgb_final = XGBClassifier(learning_rate =0.01,\n",
        "                          n_estimators=n,\n",
        "                          max_depth=d,\n",
        "                          min_child_weight=w,\n",
        "                          gamma=g,\n",
        "                          subsample=sub,\n",
        "                          colsample_bytree=col,\n",
        "                          objective= 'binary:logistic',\n",
        "                          nthread=4,\n",
        "                          scale_pos_weight=1,\n",
        "                          seed=27)\n",
        "\n",
        "\n",
        "    # Fit on the training data\n",
        "    xgb_final.fit(tr_x, tr_y, eval_metric = 'auc')\n",
        "\n",
        "    # Make predictions on train & validation set\n",
        "    tr_predictions = xgb_final.predict(tr_x)\n",
        "    tr_predprob = xgb_final.predict_proba(tr_x)[:,1]\n",
        "\n",
        "    vl_predictions = xgb_final.predict(vl_x)\n",
        "    vl_predprob = xgb_final.predict_proba(vl_x)[:,1]\n",
        "\n",
        "    # Print score on training set\n",
        "    print (\"Accuracy (Train): %.4g\" % metrics.accuracy_score(tr_y, tr_predictions))\n",
        "    print (\"AUC Score (Train): %f\" % metrics.roc_auc_score(tr_y, tr_predprob))\n",
        "\n",
        "    # Predict on validation set:\n",
        "    print (\"Accuracy (Validation): %.4g\" % metrics.accuracy_score(vl_y, vl_predictions))\n",
        "    print (\"AUC Score (Validation): %f\" % metrics.roc_auc_score(vl_y, vl_predprob))"
      ],
      "execution_count": 0,
      "outputs": []
    },
    {
      "cell_type": "code",
      "metadata": {
        "id": "HEWT8LrW01mG",
        "colab_type": "code",
        "colab": {
          "base_uri": "https://localhost:8080/",
          "height": 85
        },
        "outputId": "9fa380ad-904d-4c5f-bb73-790165e8c6a1"
      },
      "source": [
        "modelfit(tr_x, vl_x, tr_y, vl_y, best_n_estimators, best_max_depth, best_min_child_weight, best_gamma, best_subsample, best_colsample_bytree)"
      ],
      "execution_count": 50,
      "outputs": [
        {
          "output_type": "stream",
          "text": [
            "Accuracy (Train): 0.9806\n",
            "AUC Score (Train): 0.954123\n",
            "Accuracy (Validation): 0.9797\n",
            "AUC Score (Validation): 0.947400\n"
          ],
          "name": "stdout"
        }
      ]
    },
    {
      "cell_type": "code",
      "metadata": {
        "id": "H1EotgTnRxpS",
        "colab_type": "code",
        "colab": {}
      },
      "source": [
        ""
      ],
      "execution_count": 0,
      "outputs": []
    },
    {
      "cell_type": "code",
      "metadata": {
        "id": "0sC1qS9eRxdN",
        "colab_type": "code",
        "colab": {}
      },
      "source": [
        ""
      ],
      "execution_count": 0,
      "outputs": []
    },
    {
      "cell_type": "code",
      "metadata": {
        "colab_type": "code",
        "id": "grobDWEBQ72c",
        "colab": {}
      },
      "source": [
        ""
      ],
      "execution_count": 0,
      "outputs": []
    },
    {
      "cell_type": "code",
      "metadata": {
        "colab_type": "code",
        "id": "ecD3ACuIQ7rl",
        "colab": {}
      },
      "source": [
        ""
      ],
      "execution_count": 0,
      "outputs": []
    },
    {
      "cell_type": "code",
      "metadata": {
        "colab_type": "code",
        "id": "LCjgUgR1Q7g1",
        "colab": {}
      },
      "source": [
        ""
      ],
      "execution_count": 0,
      "outputs": []
    },
    {
      "cell_type": "code",
      "metadata": {
        "colab_type": "code",
        "id": "h0skAnawQ7Uw",
        "colab": {}
      },
      "source": [
        ""
      ],
      "execution_count": 0,
      "outputs": []
    },
    {
      "cell_type": "code",
      "metadata": {
        "colab_type": "code",
        "id": "Y19RHJmp1aG4",
        "colab": {}
      },
      "source": [
        ""
      ],
      "execution_count": 0,
      "outputs": []
    },
    {
      "cell_type": "code",
      "metadata": {
        "colab_type": "code",
        "id": "c3G71bkYf3_E",
        "colab": {}
      },
      "source": [
        ""
      ],
      "execution_count": 0,
      "outputs": []
    },
    {
      "cell_type": "code",
      "metadata": {
        "colab_type": "code",
        "id": "EUqnbrXQf3vd",
        "colab": {}
      },
      "source": [
        ""
      ],
      "execution_count": 0,
      "outputs": []
    },
    {
      "cell_type": "code",
      "metadata": {
        "colab_type": "code",
        "id": "IJ1iIbc4rZQK",
        "colab": {}
      },
      "source": [
        ""
      ],
      "execution_count": 0,
      "outputs": []
    },
    {
      "cell_type": "code",
      "metadata": {
        "colab_type": "code",
        "id": "xGsavHJHrZKk",
        "colab": {}
      },
      "source": [
        ""
      ],
      "execution_count": 0,
      "outputs": []
    },
    {
      "cell_type": "code",
      "metadata": {
        "colab_type": "code",
        "id": "hjhEsABtEmse",
        "colab": {}
      },
      "source": [
        ""
      ],
      "execution_count": 0,
      "outputs": []
    },
    {
      "cell_type": "code",
      "metadata": {
        "colab_type": "code",
        "id": "-8PESF1GElwM",
        "colab": {}
      },
      "source": [
        ""
      ],
      "execution_count": 0,
      "outputs": []
    },
    {
      "cell_type": "code",
      "metadata": {
        "colab_type": "code",
        "id": "8syydvuxtV_2",
        "colab": {}
      },
      "source": [
        ""
      ],
      "execution_count": 0,
      "outputs": []
    },
    {
      "cell_type": "code",
      "metadata": {
        "colab_type": "code",
        "id": "Qb_APK0vtV_2",
        "colab": {}
      },
      "source": [
        ""
      ],
      "execution_count": 0,
      "outputs": []
    },
    {
      "cell_type": "code",
      "metadata": {
        "colab_type": "code",
        "id": "7wTu6HlrtV_3",
        "colab": {}
      },
      "source": [
        ""
      ],
      "execution_count": 0,
      "outputs": []
    },
    {
      "cell_type": "code",
      "metadata": {
        "colab_type": "code",
        "id": "4NgDGMaEtV_4",
        "colab": {}
      },
      "source": [
        ""
      ],
      "execution_count": 0,
      "outputs": []
    },
    {
      "cell_type": "code",
      "metadata": {
        "colab_type": "code",
        "id": "NSAv2flDtV_4",
        "colab": {}
      },
      "source": [
        ""
      ],
      "execution_count": 0,
      "outputs": []
    },
    {
      "cell_type": "code",
      "metadata": {
        "colab_type": "code",
        "id": "MnYAGROotV_5",
        "colab": {}
      },
      "source": [
        ""
      ],
      "execution_count": 0,
      "outputs": []
    },
    {
      "cell_type": "code",
      "metadata": {
        "colab_type": "code",
        "id": "NjEsthIatV_5",
        "colab": {}
      },
      "source": [
        ""
      ],
      "execution_count": 0,
      "outputs": []
    },
    {
      "cell_type": "code",
      "metadata": {
        "colab_type": "code",
        "id": "XYZ4loqFtV_6",
        "colab": {}
      },
      "source": [
        ""
      ],
      "execution_count": 0,
      "outputs": []
    },
    {
      "cell_type": "code",
      "metadata": {
        "colab_type": "code",
        "id": "szapcpl-tV_6",
        "colab": {}
      },
      "source": [
        ""
      ],
      "execution_count": 0,
      "outputs": []
    },
    {
      "cell_type": "code",
      "metadata": {
        "colab_type": "code",
        "id": "BsD-NQJs3RwD",
        "colab": {}
      },
      "source": [
        ""
      ],
      "execution_count": 0,
      "outputs": []
    },
    {
      "cell_type": "code",
      "metadata": {
        "colab_type": "code",
        "id": "qrYoyg3o3Rml",
        "colab": {}
      },
      "source": [
        ""
      ],
      "execution_count": 0,
      "outputs": []
    },
    {
      "cell_type": "code",
      "metadata": {
        "colab_type": "code",
        "id": "jpV7jtaE3Ram",
        "colab": {}
      },
      "source": [
        ""
      ],
      "execution_count": 0,
      "outputs": []
    },
    {
      "cell_type": "code",
      "metadata": {
        "colab_type": "code",
        "id": "ClUAWmZit_Id",
        "colab": {}
      },
      "source": [
        ""
      ],
      "execution_count": 0,
      "outputs": []
    },
    {
      "cell_type": "code",
      "metadata": {
        "colab_type": "code",
        "id": "drn9q1cGt_Ie",
        "colab": {}
      },
      "source": [
        ""
      ],
      "execution_count": 0,
      "outputs": []
    },
    {
      "cell_type": "code",
      "metadata": {
        "colab_type": "code",
        "id": "SPSXKYBDt_Ie",
        "colab": {}
      },
      "source": [
        ""
      ],
      "execution_count": 0,
      "outputs": []
    },
    {
      "cell_type": "code",
      "metadata": {
        "colab_type": "code",
        "id": "q8SsEadtt_If",
        "colab": {}
      },
      "source": [
        ""
      ],
      "execution_count": 0,
      "outputs": []
    }
  ]
}