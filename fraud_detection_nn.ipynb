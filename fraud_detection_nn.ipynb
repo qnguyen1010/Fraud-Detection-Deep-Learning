{
  "nbformat": 4,
  "nbformat_minor": 0,
  "metadata": {
    "accelerator": "GPU",
    "colab": {
      "name": "fraud_detection_nn.ipynb",
      "provenance": [],
      "collapsed_sections": [
        "Q4qiqLT_t_IZ"
      ],
      "toc_visible": true,
      "machine_shape": "hm"
    },
    "kernelspec": {
      "display_name": "Environment (conda_pytorch_p36)",
      "language": "python",
      "name": "conda_pytorch_p36"
    },
    "language_info": {
      "codemirror_mode": {
        "name": "ipython",
        "version": 3
      },
      "file_extension": ".py",
      "mimetype": "text/x-python",
      "name": "python",
      "nbconvert_exporter": "python",
      "pygments_lexer": "ipython3",
      "version": "3.6.5"
    }
  },
  "cells": [
    {
      "cell_type": "code",
      "metadata": {
        "id": "nOJ6TdkvuZRA",
        "colab_type": "code",
        "outputId": "76cb4a0a-5696-40d1-d43a-0001f5187289",
        "colab": {
          "base_uri": "https://localhost:8080/",
          "height": 122
        }
      },
      "source": [
        "from google.colab import drive\n",
        "drive.mount('/content/drive')"
      ],
      "execution_count": 1,
      "outputs": [
        {
          "output_type": "stream",
          "text": [
            "Go to this URL in a browser: https://accounts.google.com/o/oauth2/auth?client_id=947318989803-6bn6qk8qdgf4n4g3pfee6491hc0brc4i.apps.googleusercontent.com&redirect_uri=urn%3Aietf%3Awg%3Aoauth%3A2.0%3Aoob&scope=email%20https%3A%2F%2Fwww.googleapis.com%2Fauth%2Fdocs.test%20https%3A%2F%2Fwww.googleapis.com%2Fauth%2Fdrive%20https%3A%2F%2Fwww.googleapis.com%2Fauth%2Fdrive.photos.readonly%20https%3A%2F%2Fwww.googleapis.com%2Fauth%2Fpeopleapi.readonly&response_type=code\n",
            "\n",
            "Enter your authorization code:\n",
            "··········\n",
            "Mounted at /content/drive\n"
          ],
          "name": "stdout"
        }
      ]
    },
    {
      "cell_type": "code",
      "metadata": {
        "colab_type": "code",
        "id": "2OtDqXmGt_HG",
        "colab": {}
      },
      "source": [
        "def plot_hist(df, col, label):\n",
        "    plt.hist(df[col], label = label)\n",
        "    plt.legend()\n",
        "    plt.show()"
      ],
      "execution_count": 0,
      "outputs": []
    },
    {
      "cell_type": "markdown",
      "metadata": {
        "colab_type": "text",
        "id": "zd8DbKj1t_HJ"
      },
      "source": [
        "### 1. Data Preparation"
      ]
    },
    {
      "cell_type": "code",
      "metadata": {
        "_cell_guid": "b1076dfc-b9ad-4769-8c92-a6c4dae69d19",
        "_uuid": "8f2839f25d086af736a60e9eeb907d3b93b6e0e5",
        "colab_type": "code",
        "id": "q0cXboTlt_HK",
        "colab": {}
      },
      "source": [
        "# General imports\n",
        "import numpy as np\n",
        "np.random.seed(0)\n",
        "import pandas as pd\n",
        "from sklearn.preprocessing import LabelEncoder\n",
        "import os, sys, gc, warnings, random, datetime\n",
        "from sklearn import metrics\n",
        "from sklearn.model_selection import train_test_split, KFold, StratifiedKFold\n",
        "import matplotlib.pyplot as plt\n",
        "import seaborn as sns\n",
        "from tqdm import tqdm\n",
        "\n",
        "import math\n",
        "\n",
        "warnings.filterwarnings('ignore')"
      ],
      "execution_count": 0,
      "outputs": []
    },
    {
      "cell_type": "code",
      "metadata": {
        "_cell_guid": "79c7e3d0-c299-4dcb-8224-4455121ee9b0",
        "_uuid": "d629ff2d2480ee46fbb7e2d37f6b5fab8052498a",
        "colab_type": "code",
        "id": "21vv92zut_HN",
        "colab": {}
      },
      "source": [
        "## Seeder\n",
        "# :seed to make all processes deterministic     # type: int\n",
        "def seed_everything(seed=0):\n",
        "    random.seed(seed)\n",
        "    os.environ['PYTHONHASHSEED'] = str(seed)\n",
        "    np.random.seed(seed)\n",
        "## ------------------- \n",
        "\n",
        "## -------------------\n",
        "## Memory Reducer\n",
        "# :df pandas dataframe to reduce size             # type: pd.DataFrame()\n",
        "# :verbose                                        # type: bool\n",
        "def reduce_mem_usage(df, verbose=True):\n",
        "    numerics = ['int16', 'int32', 'int64', 'float16', 'float32', 'float64']\n",
        "    start_mem = df.memory_usage().sum() / 1024**2    \n",
        "    for col in df.columns:\n",
        "        col_type = df[col].dtypes\n",
        "        if col_type in numerics:\n",
        "            c_min = df[col].min()\n",
        "            c_max = df[col].max()\n",
        "            if str(col_type)[:3] == 'int':\n",
        "                if c_min > np.iinfo(np.int8).min and c_max < np.iinfo(np.int8).max:\n",
        "                    df[col] = df[col].astype(np.int8)\n",
        "                elif c_min > np.iinfo(np.int16).min and c_max < np.iinfo(np.int16).max:\n",
        "                    df[col] = df[col].astype(np.int16)\n",
        "                elif c_min > np.iinfo(np.int32).min and c_max < np.iinfo(np.int32).max:\n",
        "                    df[col] = df[col].astype(np.int32)\n",
        "                elif c_min > np.iinfo(np.int64).min and c_max < np.iinfo(np.int64).max:\n",
        "                    df[col] = df[col].astype(np.int64)  \n",
        "            else:\n",
        "                if c_min > np.finfo(np.float16).min and c_max < np.finfo(np.float16).max:\n",
        "                    df[col] = df[col].astype(np.float16)\n",
        "                elif c_min > np.finfo(np.float32).min and c_max < np.finfo(np.float32).max:\n",
        "                    df[col] = df[col].astype(np.float32)\n",
        "                else:\n",
        "                    df[col] = df[col].astype(np.float64)    \n",
        "    end_mem = df.memory_usage().sum() / 1024**2\n",
        "    if verbose: print('Mem. usage decreased to {:5.2f} Mb ({:.1f}% reduction)'.format(end_mem, 100 * (start_mem - end_mem) / start_mem))\n",
        "    return df\n",
        "## -------------------"
      ],
      "execution_count": 0,
      "outputs": []
    },
    {
      "cell_type": "code",
      "metadata": {
        "colab_type": "code",
        "id": "DRkyja3ht_HQ",
        "colab": {}
      },
      "source": [
        "SEED = 42\n",
        "seed_everything(SEED)\n",
        "TARGET = 'isFraud'"
      ],
      "execution_count": 0,
      "outputs": []
    },
    {
      "cell_type": "code",
      "metadata": {
        "colab_type": "code",
        "id": "BP4VzJjDt_HS",
        "outputId": "abcd7a26-3f2d-4ee2-c973-55197a9b3733",
        "colab": {
          "base_uri": "https://localhost:8080/",
          "height": 34
        }
      },
      "source": [
        "# ----- Load Data -----\n",
        "print('Loading Data..')\n",
        "\n",
        "train_df = pd.read_csv('/content/drive/My Drive/Springboard Capstone 2/train_transaction.csv')\n",
        "test_df = pd.read_csv('/content/drive/My Drive/Springboard Capstone 2/test_transaction.csv')\n",
        "test_df['isFraud'] = 0\n",
        "\n",
        "train_identity = pd.read_csv('/content/drive/My Drive/Springboard Capstone 2/train_identity.csv')\n",
        "test_identity = pd.read_csv('/content/drive/My Drive/Springboard Capstone 2/test_identity.csv')"
      ],
      "execution_count": 6,
      "outputs": [
        {
          "output_type": "stream",
          "text": [
            "Loading Data..\n"
          ],
          "name": "stdout"
        }
      ]
    },
    {
      "cell_type": "code",
      "metadata": {
        "colab_type": "code",
        "id": "JBlpnkx3t_HY",
        "outputId": "fdb07988-72e5-4f1a-db10-1eae0bfba0e4",
        "colab": {
          "base_uri": "https://localhost:8080/",
          "height": 85
        }
      },
      "source": [
        "train_df = reduce_mem_usage(train_df)\n",
        "test_df  = reduce_mem_usage(test_df)\n",
        "\n",
        "train_identity = reduce_mem_usage(train_identity)\n",
        "test_identity  = reduce_mem_usage(test_identity)"
      ],
      "execution_count": 7,
      "outputs": [
        {
          "output_type": "stream",
          "text": [
            "Mem. usage decreased to 542.35 Mb (69.4% reduction)\n",
            "Mem. usage decreased to 473.07 Mb (68.9% reduction)\n",
            "Mem. usage decreased to 25.86 Mb (42.7% reduction)\n",
            "Mem. usage decreased to 25.44 Mb (42.7% reduction)\n"
          ],
          "name": "stdout"
        }
      ]
    },
    {
      "cell_type": "markdown",
      "metadata": {
        "colab_type": "text",
        "id": "uX3HTkBht_Hf"
      },
      "source": [
        "### 2. Data Preprocessing"
      ]
    },
    {
      "cell_type": "code",
      "metadata": {
        "colab_type": "code",
        "id": "ZJbwG4b1t_Ha",
        "colab": {}
      },
      "source": [
        "base_columns = list(train_df) + list(train_identity)"
      ],
      "execution_count": 0,
      "outputs": []
    },
    {
      "cell_type": "markdown",
      "metadata": {
        "colab_type": "text",
        "id": "Lhgrq-b2t_Hf"
      },
      "source": [
        "**Dataset Columns**\n",
        "\n",
        "**Transaction Data**\n",
        "\n",
        "'TransactionID'\n",
        "\n",
        "'isFraud'\n",
        "\n",
        "'TransactionDT'\n",
        "\n",
        "'TransactionAmt'\n",
        "\n",
        "'ProductCD' **Categorical Features**\n",
        "\n",
        "'card1' - 'card6' **Categorical Features**\n",
        "\n",
        "'addr1' - 'addr2' **Categorical Features**\n",
        "\n",
        "'dist1' - 'dist2'\n",
        "\n",
        "'P_emaildomain' **Categorical Features**\n",
        "\n",
        "'R_emaildomain' **Categorical Features**\n",
        "\n",
        "'C1' - 'C14'\n",
        "\n",
        "'D1' - 'D15'\n",
        "\n",
        "'M1' - 'M9' **Categorical Features**\n",
        "\n",
        "'V1' - 'V339'\n",
        "\n",
        "\n",
        "\n",
        "\n",
        "**Identity Data**\n",
        "\n",
        "'TransactionID'\n",
        "\n",
        "'id_01' - 'id_38' **Categorical Features id_12 - id_38**\n",
        "\n",
        "'DeviceType' **Categorical Features**\n",
        "\n",
        "'DeviceInfo' **Categorical Features**"
      ]
    },
    {
      "cell_type": "markdown",
      "metadata": {
        "colab_type": "text",
        "id": "VNGPCS-Rt_Hh"
      },
      "source": [
        "#### 2.1 Product CD"
      ]
    },
    {
      "cell_type": "markdown",
      "metadata": {
        "id": "JreCIwlUKDmi",
        "colab_type": "text"
      },
      "source": [
        "Here we look at product code distribution and percentage of fraud in ALL transactions associated with every product code"
      ]
    },
    {
      "cell_type": "code",
      "metadata": {
        "colab_type": "code",
        "id": "vOSnG7Lft_Hi",
        "outputId": "aaecd46f-f150-465f-8f9b-a18aa05e223b",
        "colab": {
          "base_uri": "https://localhost:8080/",
          "height": 411
        }
      },
      "source": [
        "plt.figure(figsize=(14,6))\n",
        "\n",
        "total = len(train_df)\n",
        "\n",
        "plt.subplot(121)\n",
        "g = sns.countplot(x = 'ProductCD', data = train_df)\n",
        "g.set_title('ProductCD Distribution', fontsize = 15)\n",
        "g.set_xlabel(\"Product Code\", fontsize=15)\n",
        "g.set_ylabel(\"Count\", fontsize=15)\n",
        "for p in g.patches:\n",
        "    height = p.get_height()\n",
        "    g.text(p.get_x()+p.get_width()/2.,\n",
        "            height + 10,\n",
        "            '{:1.2f}%'.format(height/total*100),\n",
        "            ha=\"center\", fontsize=14) \n",
        "\n",
        "plt.subplot(122)\n",
        "g1 = sns.countplot(x='ProductCD', hue='isFraud', data=train_df)\n",
        "g1.set_title('ProductCD by Fraud', fontsize = 15)\n",
        "g1.set_xlabel(\"Product Code\", fontsize=15)\n",
        "g1.set_ylabel(\"Count\", fontsize=15)\n",
        "plt.legend(title='Fraud', loc='best', labels=['No', 'Yes'])\n",
        "for p in g1.patches:\n",
        "    height = p.get_height()\n",
        "    g1.text(p.get_x()+p.get_width()/2.,\n",
        "            height + 5,\n",
        "            '{:1.2f}%'.format(height/total*100),\n",
        "            ha=\"center\", fontsize=12) "
      ],
      "execution_count": 9,
      "outputs": [
        {
          "output_type": "display_data",
          "data": {
            "image/png": "[encoded data removed]",
            "text/plain": [
              "<Figure size 1008x432 with 2 Axes>"
            ]
          },
          "metadata": {
            "tags": []
          }
        }
      ]
    },
    {
      "cell_type": "markdown",
      "metadata": {
        "id": "sLTb_9CPMezh",
        "colab_type": "text"
      },
      "source": [
        "Now let's look at fraud transaction distribution in all product codes"
      ]
    },
    {
      "cell_type": "code",
      "metadata": {
        "colab_type": "code",
        "id": "apZEQDW_t_Hm",
        "outputId": "d2f4c6ff-b56a-4bb7-8991-09f6ce2cea7a",
        "colab": {
          "base_uri": "https://localhost:8080/",
          "height": 119
        }
      },
      "source": [
        "train_df[train_df['isFraud'] == 1]['ProductCD'].value_counts(normalize = True)"
      ],
      "execution_count": 10,
      "outputs": [
        {
          "output_type": "execute_result",
          "data": {
            "text/plain": [
              "W    0.434061\n",
              "C    0.387553\n",
              "H    0.076175\n",
              "R    0.069012\n",
              "S    0.033199\n",
              "Name: ProductCD, dtype: float64"
            ]
          },
          "metadata": {
            "tags": []
          },
          "execution_count": 10
        }
      ]
    },
    {
      "cell_type": "code",
      "metadata": {
        "colab_type": "code",
        "id": "5XNC25Vnt_Hn",
        "outputId": "051de463-3651-4703-bcce-ea81f7897ae9",
        "colab": {
          "base_uri": "https://localhost:8080/",
          "height": 450
        }
      },
      "source": [
        "plt.figure(figsize = (16,16))\n",
        "temp = train_df.groupby('ProductCD')['isFraud'].value_counts(normalize = True).unstack()\n",
        "print(temp)\n",
        "a = temp.plot.bar(stacked = True)\n",
        "a.set_title('Rate of Fraud by Product Code', fontsize = 15)\n",
        "plt.xticks(rotation = 'horizontal')"
      ],
      "execution_count": 11,
      "outputs": [
        {
          "output_type": "stream",
          "text": [
            "isFraud           0         1\n",
            "ProductCD                    \n",
            "C          0.883127  0.116873\n",
            "H          0.952338  0.047662\n",
            "R          0.962174  0.037826\n",
            "S          0.941004  0.058996\n",
            "W          0.979601  0.020399\n"
          ],
          "name": "stdout"
        },
        {
          "output_type": "execute_result",
          "data": {
            "text/plain": [
              "(array([0, 1, 2, 3, 4]), <a list of 5 Text xticklabel objects>)"
            ]
          },
          "metadata": {
            "tags": []
          },
          "execution_count": 11
        },
        {
          "output_type": "display_data",
          "data": {
            "text/plain": [
              "<Figure size 1152x1152 with 0 Axes>"
            ]
          },
          "metadata": {
            "tags": []
          }
        },
        {
          "output_type": "display_data",
          "data": {
            "image/png": "[encoded data removed]",
            "text/plain": [
              "<Figure size 432x288 with 1 Axes>"
            ]
          },
          "metadata": {
            "tags": []
          }
        }
      ]
    },
    {
      "cell_type": "markdown",
      "metadata": {
        "colab_type": "text",
        "id": "nLQog0LGt_Hp"
      },
      "source": [
        "These results susgest that with product code, we need to do 2 things:\n",
        "* Encode categorical levels using Frequency Encoding\n",
        "* Add target mean by categorical level. It is found here that product C has highest fraud rate, compared to others"
      ]
    },
    {
      "cell_type": "code",
      "metadata": {
        "colab_type": "code",
        "id": "90X_2u7xt_Hq",
        "colab": {}
      },
      "source": [
        "# ProductCD Frequency Encoding\n",
        "col = 'ProductCD'\n",
        "temp_df = pd.concat([train_df[[col]], test_df[[col]]])   # I don't want to use test data\n",
        "#temp_df = train_df[[col]]\n",
        "col_encoded = temp_df[col].value_counts().to_dict()\n",
        "train_df[col] = train_df[col].map(col_encoded)\n",
        "test_df[col]  = test_df[col].map(col_encoded)"
      ],
      "execution_count": 0,
      "outputs": []
    },
    {
      "cell_type": "markdown",
      "metadata": {
        "colab_type": "text",
        "id": "wwcEa527t_Hv"
      },
      "source": [
        "### 2.2 Card1 - Card6"
      ]
    },
    {
      "cell_type": "markdown",
      "metadata": {
        "colab_type": "text",
        "id": "WKGf-bAmt_Hv"
      },
      "source": [
        "#### a. Card 1, 2, 3, 5\n",
        "\n",
        "The card 1,2,3, and 5 was represented as numerical values, temping us to plot the histogram. However, we need to remember that card columns were classified as categorical variables. Meaning it's likely that these numerical variables were coded for categorical variables."
      ]
    },
    {
      "cell_type": "code",
      "metadata": {
        "colab_type": "code",
        "id": "xhI2_Krlt_Hv",
        "outputId": "a3b8c958-dd7b-40df-e787-793313eacfa9",
        "colab": {
          "base_uri": "https://localhost:8080/",
          "height": 297
        }
      },
      "source": [
        "train_df.describe().loc[:,'card1':'card5']"
      ],
      "execution_count": 13,
      "outputs": [
        {
          "output_type": "execute_result",
          "data": {
            "text/html": [
              "<div>\n",
              "<style scoped>\n",
              "    .dataframe tbody tr th:only-of-type {\n",
              "        vertical-align: middle;\n",
              "    }\n",
              "\n",
              "    .dataframe tbody tr th {\n",
              "        vertical-align: top;\n",
              "    }\n",
              "\n",
              "    .dataframe thead th {\n",
              "        text-align: right;\n",
              "    }\n",
              "</style>\n",
              "<table border=\"1\" class=\"dataframe\">\n",
              "  <thead>\n",
              "    <tr style=\"text-align: right;\">\n",
              "      <th></th>\n",
              "      <th>card1</th>\n",
              "      <th>card2</th>\n",
              "      <th>card3</th>\n",
              "      <th>card5</th>\n",
              "    </tr>\n",
              "  </thead>\n",
              "  <tbody>\n",
              "    <tr>\n",
              "      <th>count</th>\n",
              "      <td>590540.000000</td>\n",
              "      <td>581607.0</td>\n",
              "      <td>588975.0</td>\n",
              "      <td>586281.0</td>\n",
              "    </tr>\n",
              "    <tr>\n",
              "      <th>mean</th>\n",
              "      <td>9898.734658</td>\n",
              "      <td>NaN</td>\n",
              "      <td>NaN</td>\n",
              "      <td>NaN</td>\n",
              "    </tr>\n",
              "    <tr>\n",
              "      <th>std</th>\n",
              "      <td>4901.170153</td>\n",
              "      <td>NaN</td>\n",
              "      <td>0.0</td>\n",
              "      <td>0.0</td>\n",
              "    </tr>\n",
              "    <tr>\n",
              "      <th>min</th>\n",
              "      <td>1000.000000</td>\n",
              "      <td>100.0</td>\n",
              "      <td>100.0</td>\n",
              "      <td>100.0</td>\n",
              "    </tr>\n",
              "    <tr>\n",
              "      <th>25%</th>\n",
              "      <td>6019.000000</td>\n",
              "      <td>214.0</td>\n",
              "      <td>150.0</td>\n",
              "      <td>166.0</td>\n",
              "    </tr>\n",
              "    <tr>\n",
              "      <th>50%</th>\n",
              "      <td>9678.000000</td>\n",
              "      <td>361.0</td>\n",
              "      <td>150.0</td>\n",
              "      <td>226.0</td>\n",
              "    </tr>\n",
              "    <tr>\n",
              "      <th>75%</th>\n",
              "      <td>14184.000000</td>\n",
              "      <td>512.0</td>\n",
              "      <td>150.0</td>\n",
              "      <td>226.0</td>\n",
              "    </tr>\n",
              "    <tr>\n",
              "      <th>max</th>\n",
              "      <td>18396.000000</td>\n",
              "      <td>600.0</td>\n",
              "      <td>231.0</td>\n",
              "      <td>237.0</td>\n",
              "    </tr>\n",
              "  </tbody>\n",
              "</table>\n",
              "</div>"
            ],
            "text/plain": [
              "               card1     card2     card3     card5\n",
              "count  590540.000000  581607.0  588975.0  586281.0\n",
              "mean     9898.734658       NaN       NaN       NaN\n",
              "std      4901.170153       NaN       0.0       0.0\n",
              "min      1000.000000     100.0     100.0     100.0\n",
              "25%      6019.000000     214.0     150.0     166.0\n",
              "50%      9678.000000     361.0     150.0     226.0\n",
              "75%     14184.000000     512.0     150.0     226.0\n",
              "max     18396.000000     600.0     231.0     237.0"
            ]
          },
          "metadata": {
            "tags": []
          },
          "execution_count": 13
        }
      ]
    },
    {
      "cell_type": "code",
      "metadata": {
        "colab_type": "code",
        "id": "oJk1WO-zt_Hw",
        "outputId": "e62a9a2b-c8ab-48e7-c971-b1327463c10a",
        "colab": {
          "base_uri": "https://localhost:8080/",
          "height": 119
        }
      },
      "source": [
        "train_df.loc[:,'card1':'card5'].nunique()"
      ],
      "execution_count": 14,
      "outputs": [
        {
          "output_type": "execute_result",
          "data": {
            "text/plain": [
              "card1    13553\n",
              "card2      500\n",
              "card3      114\n",
              "card4        4\n",
              "card5      119\n",
              "dtype: int64"
            ]
          },
          "metadata": {
            "tags": []
          },
          "execution_count": 14
        }
      ]
    },
    {
      "cell_type": "code",
      "metadata": {
        "colab_type": "code",
        "id": "BAC7gqu7t_H0",
        "colab": {}
      },
      "source": [
        "########################### Reset values for \"noise\" card1\n",
        "i_cols = ['card1']\n",
        "\n",
        "for col in i_cols: \n",
        "    valid_card = pd.concat([train_df[[col]], test_df[[col]]])\n",
        "    valid_card = valid_card[col].value_counts()\n",
        "    valid_card = valid_card[valid_card>2]\n",
        "    valid_card = list(valid_card.index)\n",
        "\n",
        "    train_df[col] = np.where(train_df[col].isin(test_df[col]), train_df[col], np.nan)\n",
        "    test_df[col]  = np.where(test_df[col].isin(train_df[col]), test_df[col], np.nan)\n",
        "\n",
        "    train_df[col] = np.where(train_df[col].isin(valid_card), train_df[col], np.nan)\n",
        "    test_df[col]  = np.where(test_df[col].isin(valid_card), test_df[col], np.nan)"
      ],
      "execution_count": 0,
      "outputs": []
    },
    {
      "cell_type": "markdown",
      "metadata": {
        "colab_type": "text",
        "id": "a87tddb5t_H0"
      },
      "source": [
        "b. Card4"
      ]
    },
    {
      "cell_type": "code",
      "metadata": {
        "colab_type": "code",
        "id": "0WVPC5Uht_H1",
        "outputId": "82e136fe-26ef-4712-d167-4d95cec65403",
        "colab": {
          "base_uri": "https://localhost:8080/",
          "height": 411
        }
      },
      "source": [
        "plt.figure(figsize=(14,6))\n",
        "\n",
        "total = len(train_df)\n",
        "\n",
        "plt.subplot(121)\n",
        "g = sns.countplot(x = 'card4', data = train_df)\n",
        "g.set_title('Card Network Distribution', fontsize = 15)\n",
        "g.set_xlabel(\"Card Issuers\", fontsize=15)\n",
        "g.set_ylabel(\"Count\", fontsize=15)\n",
        "for p in g.patches:\n",
        "    height = p.get_height()\n",
        "    g.text(p.get_x()+p.get_width()/2.,\n",
        "            height + 3,\n",
        "            '{:1.2f}%'.format(height/total*100),\n",
        "            ha=\"center\", fontsize=14) \n",
        "\n",
        "plt.subplot(122)\n",
        "g1 = sns.countplot(x='card4', hue='isFraud', data=train_df)\n",
        "g1.set_title('Card Network by Fraud', fontsize = 15)\n",
        "g1.set_xlabel(\"Card Issuers\", fontsize=15)\n",
        "g1.set_ylabel(\"Count\", fontsize=15)\n",
        "plt.legend(title='Fraud', loc='best', labels=['No', 'Yes'])\n",
        "for p in g1.patches:\n",
        "    height = p.get_height()\n",
        "    g1.text(p.get_x()+p.get_width()/2.,\n",
        "            height + 3,\n",
        "            '{:1.2f}%'.format(height/total*100),\n",
        "            ha=\"center\", fontsize=12) "
      ],
      "execution_count": 16,
      "outputs": [
        {
          "output_type": "display_data",
          "data": {
            "image/png": "[encoded data removed]",
            "text/plain": [
              "<Figure size 1008x432 with 2 Axes>"
            ]
          },
          "metadata": {
            "tags": []
          }
        }
      ]
    },
    {
      "cell_type": "code",
      "metadata": {
        "colab_type": "code",
        "id": "6r3z_qcJt_H1",
        "outputId": "22f8e2a1-0f26-4b40-8c3d-5cb791cca995",
        "colab": {
          "base_uri": "https://localhost:8080/",
          "height": 329
        }
      },
      "source": [
        "# visualization of table\n",
        "plt.figure(figsize=(12,12))\n",
        "b = train_df.groupby('card4')['isFraud'].value_counts(normalize = True).unstack().plot.bar(stacked = True)\n",
        "b.set_title('Rate of Fraud by Card Network', fontsize = 13)\n",
        "plt.xticks(rotation='horizontal')"
      ],
      "execution_count": 17,
      "outputs": [
        {
          "output_type": "execute_result",
          "data": {
            "text/plain": [
              "(array([0, 1, 2, 3]), <a list of 4 Text xticklabel objects>)"
            ]
          },
          "metadata": {
            "tags": []
          },
          "execution_count": 17
        },
        {
          "output_type": "display_data",
          "data": {
            "text/plain": [
              "<Figure size 864x864 with 0 Axes>"
            ]
          },
          "metadata": {
            "tags": []
          }
        },
        {
          "output_type": "display_data",
          "data": {
            "image/png": "[encoded data removed]",
            "text/plain": [
              "<Figure size 432x288 with 1 Axes>"
            ]
          },
          "metadata": {
            "tags": []
          }
        }
      ]
    },
    {
      "cell_type": "code",
      "metadata": {
        "colab_type": "code",
        "id": "b9zp7eLFt_H2",
        "colab": {}
      },
      "source": [
        "# Card4 Frequency Encoding\n",
        "col = 'card4'\n",
        "temp_df = pd.concat([train_df[[col]], test_df[[col]]])   # I don't want to use test data\n",
        "#temp_df = train_df[[col]]\n",
        "col_encoded = temp_df[col].value_counts().to_dict()\n",
        "train_df[col] = train_df[col].map(col_encoded)\n",
        "test_df[col]  = test_df[col].map(col_encoded)\n",
        "\n",
        "## Card4 Target mean\n",
        "#for col in ['card4']:\n",
        "#    temp_dict = train_df.groupby([col])[TARGET].agg(['mean']).reset_index().rename(\n",
        "#                                                        columns={'mean': col+'_target_mean'})\n",
        "#    temp_dict.index = temp_dict[col].values\n",
        "#    temp_dict = temp_dict[col+'_target_mean'].to_dict()\n",
        "\n",
        "#    train_df[col+'_target_mean'] = train_df[col].map(temp_dict)\n",
        "#    test_df[col+'_target_mean']  = test_df[col].map(temp_dict)"
      ],
      "execution_count": 0,
      "outputs": []
    },
    {
      "cell_type": "markdown",
      "metadata": {
        "colab_type": "text",
        "id": "2RjnD_RFt_H3"
      },
      "source": [
        "c. Card6"
      ]
    },
    {
      "cell_type": "code",
      "metadata": {
        "colab_type": "code",
        "id": "paynpGoCt_H3",
        "outputId": "f2aaa79f-1142-4fab-8078-6962f0d2ad53",
        "colab": {
          "base_uri": "https://localhost:8080/",
          "height": 479
        }
      },
      "source": [
        "plt.figure(figsize=(12,6))\n",
        "\n",
        "total = len(train_df)\n",
        "\n",
        "plt.subplot(121)\n",
        "g = sns.countplot(x = 'card6', data = train_df)\n",
        "g.set_title('Card Type Distribution', fontsize = 15)\n",
        "g.set_xlabel(\"Card Type\", fontsize=15)\n",
        "g.set_ylabel(\"Count\", fontsize=15)\n",
        "for p in g.patches:\n",
        "    height = p.get_height()\n",
        "    g.text(p.get_x()+p.get_width()/2.,\n",
        "            height + 3,\n",
        "            '{:1.2f}%'.format(height/total*100),\n",
        "            ha=\"center\", fontsize=14) \n",
        "\n",
        "plt.subplot(122)\n",
        "g1 = sns.countplot(x='card6', hue='isFraud', data=train_df)\n",
        "g1.set_title('Card Type by Fraud', fontsize = 15)\n",
        "g1.set_xlabel(\"Card Type\", fontsize=15)\n",
        "g1.set_ylabel(\"Count\", fontsize=15)\n",
        "plt.legend(title='Fraud', loc='best', labels=['No', 'Yes'])\n",
        "for p in g1.patches:\n",
        "    height = p.get_height()\n",
        "    g1.text(p.get_x()+p.get_width()/2.,\n",
        "            height + 3,\n",
        "            '{:1.2f}%'.format(height/total*100),\n",
        "            ha=\"center\", fontsize=12) "
      ],
      "execution_count": 19,
      "outputs": [
        {
          "output_type": "stream",
          "text": [
            "posx and posy should be finite values\n",
            "posx and posy should be finite values\n",
            "posx and posy should be finite values\n",
            "posx and posy should be finite values\n"
          ],
          "name": "stderr"
        },
        {
          "output_type": "display_data",
          "data": {
            "image/png": "[encoded data removed]",
            "text/plain": [
              "<Figure size 864x432 with 2 Axes>"
            ]
          },
          "metadata": {
            "tags": []
          }
        }
      ]
    },
    {
      "cell_type": "code",
      "metadata": {
        "colab_type": "code",
        "id": "Se-ocpWTt_H4",
        "outputId": "408028df-2cd0-4c56-9db0-923d16f496fe",
        "colab": {
          "base_uri": "https://localhost:8080/",
          "height": 331
        }
      },
      "source": [
        "# visualization of table\n",
        "plt.figure(figsize=(16,16))\n",
        "c = train_df.groupby('card6')['isFraud'].value_counts(normalize = True).unstack().plot.bar(stacked = True)\n",
        "c.set_title('Rate of Fraud by Card Type', fontsize = 15)\n",
        "plt.xticks(rotation='horizontal')"
      ],
      "execution_count": 20,
      "outputs": [
        {
          "output_type": "execute_result",
          "data": {
            "text/plain": [
              "(array([0, 1, 2, 3]), <a list of 4 Text xticklabel objects>)"
            ]
          },
          "metadata": {
            "tags": []
          },
          "execution_count": 20
        },
        {
          "output_type": "display_data",
          "data": {
            "text/plain": [
              "<Figure size 1152x1152 with 0 Axes>"
            ]
          },
          "metadata": {
            "tags": []
          }
        },
        {
          "output_type": "display_data",
          "data": {
            "image/png": "[encoded data removed]",
            "text/plain": [
              "<Figure size 432x288 with 1 Axes>"
            ]
          },
          "metadata": {
            "tags": []
          }
        }
      ]
    },
    {
      "cell_type": "markdown",
      "metadata": {
        "colab_type": "text",
        "id": "w8i05DsTt_H5"
      },
      "source": [
        "Credit card has much higher fraud rate as compared with other types of card"
      ]
    },
    {
      "cell_type": "code",
      "metadata": {
        "colab_type": "code",
        "id": "UksHgX5vt_H5",
        "colab": {}
      },
      "source": [
        "# Card6 Frequency Encoding\n",
        "col = 'card6'\n",
        "temp_df = pd.concat([train_df[[col]], test_df[[col]]])   # I don't want to use test data\n",
        "#temp_df = train_df[[col]]\n",
        "col_encoded = temp_df[col].value_counts().to_dict()\n",
        "train_df[col] = train_df[col].map(col_encoded)\n",
        "test_df[col]  = test_df[col].map(col_encoded)\n",
        "\n",
        "## Card6 Target mean\n",
        "#for col in ['card6']:\n",
        "#    temp_dict = train_df.groupby([col])[TARGET].agg(['mean']).reset_index().rename(\n",
        "#                                                        columns={'mean': col+'_target_mean'})\n",
        "#    temp_dict.index = temp_dict[col].values\n",
        "#    temp_dict = temp_dict[col+'_target_mean'].to_dict()\n",
        "\n",
        "#    train_df[col+'_target_mean'] = train_df[col].map(temp_dict)\n",
        "#    test_df[col+'_target_mean']  = test_df[col].map(temp_dict)"
      ],
      "execution_count": 0,
      "outputs": []
    },
    {
      "cell_type": "markdown",
      "metadata": {
        "colab_type": "text",
        "id": "vf9WJhI1t_IA"
      },
      "source": [
        "### **2.3 'M1' - 'M9'**"
      ]
    },
    {
      "cell_type": "code",
      "metadata": {
        "colab_type": "code",
        "id": "rROHOAUKt_IA",
        "outputId": "497a0b0c-2a78-4cdc-a7da-3357ab18ef83",
        "colab": {
          "base_uri": "https://localhost:8080/",
          "height": 153
        }
      },
      "source": [
        "temp = train_df.groupby('M4')['isFraud'].value_counts(normalize = True)\n",
        "temp"
      ],
      "execution_count": 22,
      "outputs": [
        {
          "output_type": "execute_result",
          "data": {
            "text/plain": [
              "M4  isFraud\n",
              "M0  0          0.963351\n",
              "    1          0.036649\n",
              "M1  0          0.972949\n",
              "    1          0.027051\n",
              "M2  0          0.886261\n",
              "    1          0.113739\n",
              "Name: isFraud, dtype: float64"
            ]
          },
          "metadata": {
            "tags": []
          },
          "execution_count": 22
        }
      ]
    },
    {
      "cell_type": "code",
      "metadata": {
        "colab_type": "code",
        "id": "8JJjleYpt_IB",
        "outputId": "df7e1529-d52d-4c09-8960-0b1e7f823171",
        "colab": {
          "base_uri": "https://localhost:8080/",
          "height": 119
        }
      },
      "source": [
        "train_df['M4'].head()"
      ],
      "execution_count": 23,
      "outputs": [
        {
          "output_type": "execute_result",
          "data": {
            "text/plain": [
              "0     M2\n",
              "1     M0\n",
              "2     M0\n",
              "3     M0\n",
              "4    NaN\n",
              "Name: M4, dtype: object"
            ]
          },
          "metadata": {
            "tags": []
          },
          "execution_count": 23
        }
      ]
    },
    {
      "cell_type": "code",
      "metadata": {
        "colab_type": "code",
        "id": "c-IXzhn9t_IC",
        "outputId": "6af9acae-b849-4094-f9be-c64d41f53a82",
        "colab": {
          "base_uri": "https://localhost:8080/",
          "height": 51
        }
      },
      "source": [
        "for col in ['M1','M2','M3','M5','M6','M7','M8','M9']:\n",
        "    train_df[col] = train_df[col].map({'T':1, 'F':0})\n",
        "    test_df[col]  = test_df[col].map({'T':1, 'F':0})\n",
        "    \n",
        "for col in ['M4']:\n",
        "    print('Encoding', col)\n",
        "    temp_df = pd.concat([train_df[[col]], test_df[[col]]])\n",
        "    col_encoded = temp_df[col].value_counts().to_dict()   \n",
        "    train_df[col] = train_df[col].map(col_encoded)\n",
        "    test_df[col]  = test_df[col].map(col_encoded)\n",
        "    print(col_encoded)"
      ],
      "execution_count": 24,
      "outputs": [
        {
          "output_type": "stream",
          "text": [
            "Encoding M4\n",
            "{'M0': 357789, 'M2': 122947, 'M1': 97306}\n"
          ],
          "name": "stdout"
        }
      ]
    },
    {
      "cell_type": "markdown",
      "metadata": {
        "colab_type": "text",
        "id": "nxgxLDTPt_IF"
      },
      "source": [
        "### **2.4 'id_12' - 'id_38'**"
      ]
    },
    {
      "cell_type": "code",
      "metadata": {
        "colab_type": "code",
        "id": "MOb45Vk3t_IG",
        "colab": {}
      },
      "source": [
        "# Identity columns\n",
        "\n",
        "def minify_identity_df(df):\n",
        "\n",
        "    df['id_12'] = df['id_12'].map({'Found':1, 'NotFound':0})\n",
        "    df['id_15'] = df['id_15'].map({'New':2, 'Found':1, 'Unknown':0})\n",
        "    df['id_16'] = df['id_16'].map({'Found':1, 'NotFound':0})\n",
        "\n",
        "    df['id_23'] = df['id_23'].map({'TRANSPARENT':4, 'IP_PROXY':3, 'IP_PROXY:ANONYMOUS':2, 'IP_PROXY:HIDDEN':1})\n",
        "\n",
        "    df['id_27'] = df['id_27'].map({'Found':1, 'NotFound':0})\n",
        "    df['id_28'] = df['id_28'].map({'New':2, 'Found':1})\n",
        "\n",
        "    df['id_29'] = df['id_29'].map({'Found':1, 'NotFound':0})\n",
        "\n",
        "    df['id_35'] = df['id_35'].map({'T':1, 'F':0})\n",
        "    df['id_36'] = df['id_36'].map({'T':1, 'F':0})\n",
        "    df['id_37'] = df['id_37'].map({'T':1, 'F':0})\n",
        "    df['id_38'] = df['id_38'].map({'T':1, 'F':0})\n",
        "\n",
        "    df['id_34'] = df['id_34'].fillna(':0')\n",
        "    df['id_34'] = df['id_34'].apply(lambda x: x.split(':')[1]).astype(np.int8)\n",
        "    df['id_34'] = np.where(df['id_34']==0, np.nan, df['id_34'])\n",
        "    \n",
        "    df['id_33'] = df['id_33'].fillna('0x0')\n",
        "    df['id_33_0'] = df['id_33'].apply(lambda x: x.split('x')[0]).astype(int)\n",
        "    df['id_33_1'] = df['id_33'].apply(lambda x: x.split('x')[1]).astype(int)\n",
        "    df['id_33'] = np.where(df['id_33']=='0x0', np.nan, df['id_33'])\n",
        "\n",
        "    df['DeviceType'].map({'desktop':1, 'mobile':0})\n",
        "    return df\n",
        "\n",
        "train_identity = minify_identity_df(train_identity)\n",
        "test_identity = minify_identity_df(test_identity)\n",
        "\n",
        "for col in ['id_33']:\n",
        "    train_identity[col] = train_identity[col].fillna('unseen_before_label')\n",
        "    test_identity[col]  = test_identity[col].fillna('unseen_before_label')\n",
        "    \n",
        "    le = LabelEncoder()\n",
        "    le.fit(list(train_identity[col])+list(test_identity[col]))\n",
        "    train_identity[col] = le.transform(train_identity[col])\n",
        "    test_identity[col]  = le.transform(test_identity[col])"
      ],
      "execution_count": 0,
      "outputs": []
    },
    {
      "cell_type": "markdown",
      "metadata": {
        "colab_type": "text",
        "id": "e-o5K8OJt_IH"
      },
      "source": [
        "### **3. Feature Engineering**"
      ]
    },
    {
      "cell_type": "markdown",
      "metadata": {
        "colab_type": "text",
        "id": "_Y8qGfLVt_IH"
      },
      "source": [
        "#### **3.1 TransactionDT**"
      ]
    },
    {
      "cell_type": "code",
      "metadata": {
        "colab_type": "code",
        "id": "hd0i8ap6t_IH",
        "colab": {}
      },
      "source": [
        "START_DATE = datetime.datetime.strptime('2018-01-01', '%Y-%m-%d')\n",
        "\n",
        "for df in [train_df, test_df]:\n",
        "    # Temporary\n",
        "    df['DT'] = df['TransactionDT'].apply(lambda x: START_DATE + (datetime.timedelta(seconds = x)))\n",
        "    df['DT_M'] = df['DT'].dt.month\n",
        "    df['DT_W'] = df['DT'].dt.weekofyear\n",
        "    df['DT_D'] = df['DT'].dt.dayofyear\n",
        "    \n",
        "    df['DT_hour'] = df['DT'].dt.hour\n",
        "    df['DT_day_week'] = df['DT'].dt.dayofweek\n",
        "    df['DT_day'] = df['DT'].dt.day\n",
        "    \n",
        "    # D9 column\n",
        "    df['D9'] = np.where(df['D9'].isna(),0,1)\n",
        "\n",
        "#del train_df['DT']\n",
        "#del test_df['DT']"
      ],
      "execution_count": 0,
      "outputs": []
    },
    {
      "cell_type": "code",
      "metadata": {
        "colab_type": "code",
        "id": "Tw9N0FQEt_IL",
        "colab": {}
      },
      "source": [
        "# 'P_emaildomain' - 'R_emaildomain'\n",
        "p = 'P_emaildomain'\n",
        "r = 'R_emaildomain'\n",
        "uknown = 'email_not_provided'\n",
        "\n",
        "for df in [train_df, test_df]:\n",
        "    df[p] = df[p].fillna(uknown)\n",
        "    df[r] = df[r].fillna(uknown)\n",
        "    \n",
        "    # Check if P_emaildomain matches R_emaildomain\n",
        "    df['email_check'] = np.where((df[p]==df[r])&(df[p]!=uknown),1,0)\n",
        "\n",
        "    df[p+'_prefix'] = df[p].apply(lambda x: x.split('.')[0])\n",
        "    df[r+'_prefix'] = df[r].apply(lambda x: x.split('.')[0])"
      ],
      "execution_count": 0,
      "outputs": []
    },
    {
      "cell_type": "code",
      "metadata": {
        "colab_type": "code",
        "id": "5IZOohGOt_IN",
        "colab": {}
      },
      "source": [
        "# ---------- Device info ------------\n",
        "for df in [train_identity, test_identity]:\n",
        "    df['DeviceInfo'] = df['DeviceInfo'].fillna('unknown_device').str.lower()\n",
        "    df['DeviceInfo_device'] = df['DeviceInfo'].apply(lambda x: ''.join([i for i in x if i.isalpha()]))\n",
        "    df['DeviceInfo_version'] = df['DeviceInfo'].apply(lambda x: ''.join([i for i in x if i.isnumeric()]))\n",
        "    \n",
        "    df['id_30'] = df['id_30'].fillna('unknown_device').str.lower()\n",
        "    df['id_30_device'] = df['id_30'].apply(lambda x: ''.join([i for i in x if i.isalpha()]))\n",
        "    df['id_30_version'] = df['id_30'].apply(lambda x: ''.join([i for i in x if i.isnumeric()]))\n",
        "    \n",
        "    # Browser\n",
        "    df['id_31'] = df['id_31'].fillna('unknown_device').str.lower()\n",
        "    df['id_31_device'] = df['id_31'].apply(lambda x: ''.join([i for i in x if i.isalpha()]))"
      ],
      "execution_count": 0,
      "outputs": []
    },
    {
      "cell_type": "code",
      "metadata": {
        "colab_type": "code",
        "id": "tvOw7xTPt_IN",
        "colab": {}
      },
      "source": [
        "# Merge Identity columns\n",
        "temp_df = train_df[['TransactionID']]\n",
        "temp_df = temp_df.merge(train_identity, on=['TransactionID'], how='left')\n",
        "del temp_df['TransactionID']\n",
        "train_df = pd.concat([train_df,temp_df], axis=1)\n",
        "    \n",
        "temp_df = test_df[['TransactionID']]\n",
        "temp_df = temp_df.merge(test_identity, on=['TransactionID'], how='left')\n",
        "del temp_df['TransactionID']\n",
        "test_df = pd.concat([test_df,temp_df], axis=1)"
      ],
      "execution_count": 0,
      "outputs": []
    },
    {
      "cell_type": "markdown",
      "metadata": {
        "colab_type": "text",
        "id": "Uv2-xCGlt_IO"
      },
      "source": [
        "#### **3.2 Frequency Encoding**\n"
      ]
    },
    {
      "cell_type": "code",
      "metadata": {
        "colab_type": "code",
        "id": "BAtzCZivt_IO",
        "colab": {}
      },
      "source": [
        "# Freq encoding\n",
        "i_cols = ['card1','card2','card3','card5',\n",
        "          'C1','C2','C3','C4','C5','C6','C7','C8','C9','C10','C11','C12','C13','C14',\n",
        "          'D1','D2','D3','D4','D5','D6','D7','D8',\n",
        "          'addr1','addr2',\n",
        "          'dist1','dist2',\n",
        "          'P_emaildomain', 'R_emaildomain',\n",
        "          'DeviceInfo','DeviceInfo_device','DeviceInfo_version',\n",
        "          'id_30','id_30_device','id_30_version',\n",
        "          'id_31_device',\n",
        "          'id_33',\n",
        "#          'uid','uid2','uid3',\n",
        "         ]\n",
        "\n",
        "for col in i_cols:\n",
        "    temp_df = pd.concat([train_df[[col]], test_df[[col]]])\n",
        "    fq_encode = temp_df[col].value_counts(dropna=False).to_dict()   \n",
        "    train_df[col+'_fq_enc'] = train_df[col].map(fq_encode)\n",
        "    test_df[col+'_fq_enc']  = test_df[col].map(fq_encode)"
      ],
      "execution_count": 0,
      "outputs": []
    },
    {
      "cell_type": "code",
      "metadata": {
        "colab_type": "code",
        "id": "mqjqlpT0t_IR",
        "outputId": "4ee8fd3d-2079-47b5-ec45-d49d709898cb",
        "colab": {
          "base_uri": "https://localhost:8080/",
          "height": 238
        }
      },
      "source": [
        "########################### Encode Str columns\n",
        "# For all such columns (probably not)\n",
        "# we already did frequency encoding (numeric feature)\n",
        "# so we will use astype('category') here\n",
        "for col in list(train_df):\n",
        "    if train_df[col].dtype=='O':\n",
        "        print(col)\n",
        "        train_df[col] = train_df[col].fillna('unseen_before_label')\n",
        "        test_df[col]  = test_df[col].fillna('unseen_before_label')\n",
        "        \n",
        "        train_df[col] = train_df[col].astype(str)\n",
        "        test_df[col] = test_df[col].astype(str)\n",
        "        \n",
        "        le = LabelEncoder()\n",
        "        le.fit(list(train_df[col])+list(test_df[col]))\n",
        "        train_df[col] = le.transform(train_df[col])\n",
        "        test_df[col]  = le.transform(test_df[col])\n",
        "        \n",
        "        train_df[col] = train_df[col].astype('category')\n",
        "        test_df[col] = test_df[col].astype('category')"
      ],
      "execution_count": 31,
      "outputs": [
        {
          "output_type": "stream",
          "text": [
            "P_emaildomain\n",
            "R_emaildomain\n",
            "P_emaildomain_prefix\n",
            "R_emaildomain_prefix\n",
            "id_30\n",
            "id_31\n",
            "DeviceType\n",
            "DeviceInfo\n",
            "DeviceInfo_device\n",
            "DeviceInfo_version\n",
            "id_30_device\n",
            "id_30_version\n",
            "id_31_device\n"
          ],
          "name": "stdout"
        }
      ]
    },
    {
      "cell_type": "code",
      "metadata": {
        "colab_type": "code",
        "id": "8GvNg45rt_IS",
        "outputId": "ee9e8981-41e5-4baa-8ee6-f82d1b63b52c",
        "colab": {
          "base_uri": "https://localhost:8080/",
          "height": 68
        }
      },
      "source": [
        "train_df = reduce_mem_usage(train_df)\n",
        "test_df = reduce_mem_usage(test_df)\n",
        "gc.collect()"
      ],
      "execution_count": 32,
      "outputs": [
        {
          "output_type": "stream",
          "text": [
            "Mem. usage decreased to 648.43 Mb (24.7% reduction)\n",
            "Mem. usage decreased to 564.13 Mb (24.4% reduction)\n"
          ],
          "name": "stdout"
        },
        {
          "output_type": "execute_result",
          "data": {
            "text/plain": [
              "0"
            ]
          },
          "metadata": {
            "tags": []
          },
          "execution_count": 32
        }
      ]
    },
    {
      "cell_type": "markdown",
      "metadata": {
        "colab_type": "text",
        "id": "qIfRQV8Zt_IS"
      },
      "source": [
        "### **4. Clean up**"
      ]
    },
    {
      "cell_type": "code",
      "metadata": {
        "colab_type": "code",
        "id": "3bV0jq84t_IS",
        "colab": {}
      },
      "source": [
        "for col in list(train_df):\n",
        "    if train_df[col].dtype == 'O':\n",
        "        print(col)"
      ],
      "execution_count": 0,
      "outputs": []
    },
    {
      "cell_type": "code",
      "metadata": {
        "colab_type": "code",
        "id": "-8k44guOt_IU",
        "colab": {}
      },
      "source": [
        "rm_cols = [\n",
        "    'TransactionID','TransactionDT', # These columns are pure noise right now\n",
        "    TARGET,                          # Not target in features))\n",
        "    'uid','uid2','uid3',             # Our new client uID -> very noisy data\n",
        "    'bank_type',                     # Victims bank could differ by time\n",
        "    'DT','DT_M','DT_W','DT_D',       # Temporary Variables\n",
        "    'DT_hour','DT_day_week','DT_day',\n",
        "    'DT_D_total','DT_W_total','DT_M_total',\n",
        "    'id_30','id_31','id_33',\n",
        "]"
      ],
      "execution_count": 0,
      "outputs": []
    },
    {
      "cell_type": "code",
      "metadata": {
        "colab_type": "code",
        "id": "Tbm0ZDwgt_IU",
        "outputId": "3e8403a2-4f72-4f4e-f1ef-51a41f297d6a",
        "colab": {
          "base_uri": "https://localhost:8080/",
          "height": 34
        }
      },
      "source": [
        "########################### Features elimination \n",
        "from scipy.stats import ks_2samp\n",
        "features_check = []\n",
        "columns_to_check = set(list(train_df)).difference(base_columns+rm_cols)\n",
        "for i in columns_to_check:\n",
        "    features_check.append(ks_2samp(test_df[i], train_df[i])[1])\n",
        "\n",
        "features_check = pd.Series(features_check, index=columns_to_check).sort_values() \n",
        "features_discard = list(features_check[features_check==0].index)\n",
        "print(features_discard)\n",
        "\n",
        "features_discard = [] \n",
        "\n",
        "# Final features list\n",
        "features_columns = [col for col in list(train_df) if col not in rm_cols + features_discard]"
      ],
      "execution_count": 35,
      "outputs": [
        {
          "output_type": "stream",
          "text": [
            "['D6_fq_enc', 'id_31_device', 'D3_fq_enc', 'D5_fq_enc', 'D7_fq_enc', 'D4_fq_enc', 'id_30_version', 'C12_fq_enc']\n"
          ],
          "name": "stdout"
        }
      ]
    },
    {
      "cell_type": "code",
      "metadata": {
        "colab_type": "code",
        "id": "_knasNa0t_IV",
        "outputId": "6aa4df81-f9b7-488f-ea95-651be7130e40",
        "colab": {
          "base_uri": "https://localhost:8080/",
          "height": 51
        }
      },
      "source": [
        "train_df = reduce_mem_usage(train_df)\n",
        "test_df  = reduce_mem_usage(test_df)\n",
        "\n",
        "del train_identity, test_identity\n",
        "gc.collect()\n",
        "\n",
        "###########################\n",
        "x_train_array = np.array(train_df[features_columns])\n",
        "y_train_array = np.array(train_df[TARGET])#.values\n",
        "\n",
        "x_train_array = x_train_array.astype('float16')\n",
        "y_train_array = y_train_array.astype('float16')\n",
        "\n",
        "for i in range(len(x_train_array)):\n",
        "    x_train_array[i]=np.nan_to_num(x_train_array[i])\n",
        "    y_train_array[i]=np.nan_to_num(y_train_array[i]) "
      ],
      "execution_count": 36,
      "outputs": [
        {
          "output_type": "stream",
          "text": [
            "Mem. usage decreased to 648.43 Mb (0.0% reduction)\n",
            "Mem. usage decreased to 564.13 Mb (0.0% reduction)\n"
          ],
          "name": "stdout"
        }
      ]
    },
    {
      "cell_type": "code",
      "metadata": {
        "id": "0yLJbspLo7O0",
        "colab_type": "code",
        "colab": {}
      },
      "source": [
        "x_train_array_new = np.copy(x_train_array)\n",
        "x_train_array_new = x_train_array_new.astype('float64')"
      ],
      "execution_count": 0,
      "outputs": []
    },
    {
      "cell_type": "code",
      "metadata": {
        "id": "-p-mp_mYqDCn",
        "colab_type": "code",
        "colab": {}
      },
      "source": [
        "n_col = x_train_array_new.shape[1]\n",
        "\n",
        "for i in range(n_col):\n",
        "  mean = np.mean(x_train_array_new[:,i])\n",
        "  std = np.std(x_train_array_new[:,i])\n",
        "  x_train_array_new[:,i] = (x_train_array_new[:,i] - mean)/std"
      ],
      "execution_count": 0,
      "outputs": []
    },
    {
      "cell_type": "code",
      "metadata": {
        "id": "mCLhL-N0qC4-",
        "colab_type": "code",
        "outputId": "4055235d-b242-4fe2-a7aa-e9191f05b1a4",
        "colab": {
          "base_uri": "https://localhost:8080/",
          "height": 51
        }
      },
      "source": [
        "x_train_array_new[:,100]"
      ],
      "execution_count": 39,
      "outputs": [
        {
          "output_type": "execute_result",
          "data": {
            "text/plain": [
              "array([-0.57653258, -0.57653258, -0.57653258, ...,  1.45404881,\n",
              "       -0.57653258,  1.45404881])"
            ]
          },
          "metadata": {
            "tags": []
          },
          "execution_count": 39
        }
      ]
    },
    {
      "cell_type": "code",
      "metadata": {
        "colab_type": "code",
        "id": "y0Kenrm-t_IX",
        "colab": {}
      },
      "source": [
        "tr_x, vl_x, tr_y, vl_y = train_test_split( x_train_array_new, y_train_array, test_size=0.2, random_state=24, stratify=y_train_array)"
      ],
      "execution_count": 0,
      "outputs": []
    },
    {
      "cell_type": "markdown",
      "metadata": {
        "colab_type": "text",
        "id": "E9okZxpht_IV"
      },
      "source": [
        "### Pytorch"
      ]
    },
    {
      "cell_type": "code",
      "metadata": {
        "colab_type": "code",
        "id": "Kt5apwyYt_IW",
        "colab": {}
      },
      "source": [
        "import torch\n",
        "from torch.autograd import Variable\n",
        "from torch.utils.data import Dataset, DataLoader\n",
        "\n",
        "\n",
        "manualSeed = 1\n",
        "\n",
        "np.random.seed(manualSeed)\n",
        "random.seed(manualSeed)\n",
        "torch.manual_seed(manualSeed)\n",
        "# Add seed to cuda for GPU use\n",
        "torch.cuda.manual_seed(manualSeed)\n",
        "torch.cuda.manual_seed_all(manualSeed)\n",
        "\n",
        "\n",
        "torch.backends.cudnn.enabled = False \n",
        "torch.backends.cudnn.benchmark = False\n",
        "torch.backends.cudnn.deterministic = True\n"
      ],
      "execution_count": 0,
      "outputs": []
    },
    {
      "cell_type": "code",
      "metadata": {
        "colab_type": "code",
        "id": "qKNSe3JPeCEN",
        "outputId": "bda78c99-43ec-44f8-ec79-0897b6760628",
        "colab": {
          "base_uri": "https://localhost:8080/",
          "height": 34
        }
      },
      "source": [
        "device = torch.device(\"cuda:0\" if torch.cuda.is_available() else \"cpu\")\n",
        "print(device)"
      ],
      "execution_count": 42,
      "outputs": [
        {
          "output_type": "stream",
          "text": [
            "cuda:0\n"
          ],
          "name": "stdout"
        }
      ]
    },
    {
      "cell_type": "code",
      "metadata": {
        "colab_type": "code",
        "id": "H-N5rAebF4uH",
        "colab": {}
      },
      "source": [
        "gpu_use = True"
      ],
      "execution_count": 0,
      "outputs": []
    },
    {
      "cell_type": "code",
      "metadata": {
        "colab_type": "code",
        "id": "ch8bbvELMz1t",
        "outputId": "cf900644-d21c-405b-f8d6-7433073416d1",
        "colab": {
          "base_uri": "https://localhost:8080/",
          "height": 34
        }
      },
      "source": [
        "tr_x.shape[0]//512"
      ],
      "execution_count": 44,
      "outputs": [
        {
          "output_type": "execute_result",
          "data": {
            "text/plain": [
              "922"
            ]
          },
          "metadata": {
            "tags": []
          },
          "execution_count": 44
        }
      ]
    },
    {
      "cell_type": "code",
      "metadata": {
        "colab_type": "code",
        "id": "973H7f5n-m9i",
        "colab": {}
      },
      "source": [
        "class fraud(Dataset):\n",
        "    # Initialize your data, download, etc.\n",
        "    def __init__(self):\n",
        "        self.len = tr_x.shape[0]\n",
        "        self.x_data = torch.from_numpy(tr_x)\n",
        "        self.y_data = torch.from_numpy(tr_y)\n",
        "        \n",
        "    def __getitem__(self, index):\n",
        "        return self.x_data[index], self.y_data[index]\n",
        "      \n",
        "    def __len__(self):\n",
        "        return self.len"
      ],
      "execution_count": 0,
      "outputs": []
    },
    {
      "cell_type": "code",
      "metadata": {
        "colab_type": "code",
        "id": "lqn8IA4s-m5P",
        "colab": {}
      },
      "source": [
        "def _init_fn():\n",
        "    np.random.seed(manualSeed)\n",
        "\n",
        "dataset = fraud()\n",
        "batchsize = 32\n",
        "\n",
        "train_loader = DataLoader(dataset=dataset, batch_size = batchsize, shuffle=True, num_workers = 0, worker_init_fn=_init_fn)"
      ],
      "execution_count": 0,
      "outputs": []
    },
    {
      "cell_type": "code",
      "metadata": {
        "colab_type": "code",
        "id": "Fcz8xg7OOQ6B",
        "colab": {}
      },
      "source": [
        "# Wrap in variable\n",
        "if gpu_use:\n",
        "    #x_train = Variable(torch.from_numpy(tr_x).cuda())   \n",
        "    #y_train = Variable(torch.from_numpy(tr_y).cuda())   \n",
        "    x_val = Variable(torch.from_numpy(vl_x).cuda())   \n",
        "    y_val = Variable(torch.from_numpy(vl_y).cuda())   \n",
        "else:\n",
        "    #x_train = Variable(torch.from_numpy(tr_x))#.cuda()) \n",
        "    #y_train = Variable(torch.from_numpy(tr_y))#.cuda())   \n",
        "    x_val = Variable(torch.from_numpy(vl_x))#.cuda())    \n",
        "    y_val = Variable(torch.from_numpy(vl_y))#.cuda())     "
      ],
      "execution_count": 0,
      "outputs": []
    },
    {
      "cell_type": "code",
      "metadata": {
        "colab_type": "code",
        "id": "w8XzPYdDL4-B",
        "colab": {}
      },
      "source": [
        "input_dim = len(tr_x[0])"
      ],
      "execution_count": 0,
      "outputs": []
    },
    {
      "cell_type": "code",
      "metadata": {
        "colab_type": "code",
        "id": "5OFOsGwJ-mzc",
        "colab": {}
      },
      "source": [
        "class Model_one(torch.nn.Module):\n",
        "\n",
        "    def __init__(self):\n",
        "        \"\"\"\n",
        "        In the constructor we instantiate two nn.Linear module\n",
        "        \"\"\"\n",
        "        super(Model_one, self).__init__()\n",
        "\n",
        "# ==============================================\n",
        "        self.l1 = torch.nn.Linear(input_dim, 1024)\n",
        "        torch.nn.init.xavier_normal_(self.l1.weight)\n",
        "        torch.nn.init.zeros_(self.l1.bias)\n",
        "        \n",
        "        self.l2 = torch.nn.Linear(1024, 1024)\n",
        "        torch.nn.init.xavier_normal_(self.l2.weight)\n",
        "        torch.nn.init.zeros_(self.l2.bias)\n",
        "\n",
        "        self.l3 = torch.nn.Linear(1024, 512)\n",
        "        torch.nn.init.xavier_normal_(self.l3.weight)\n",
        "        torch.nn.init.zeros_(self.l3.bias)\n",
        "\n",
        "        self.l4 = torch.nn.Linear(512, 256)\n",
        "        torch.nn.init.xavier_normal_(self.l4.weight)\n",
        "        torch.nn.init.zeros_(self.l4.bias)\n",
        "\n",
        "        self.l5 = torch.nn.Linear(256, 128)\n",
        "        torch.nn.init.xavier_normal_(self.l5.weight)\n",
        "        torch.nn.init.zeros_(self.l5.bias)\n",
        "\n",
        "        self.l6 = torch.nn.Linear(128, 64)\n",
        "        torch.nn.init.xavier_normal_(self.l6.weight)\n",
        "        torch.nn.init.zeros_(self.l6.bias)\n",
        "\n",
        "        self.l7 = torch.nn.Linear(64, 1)\n",
        "        torch.nn.init.xavier_normal_(self.l7.weight)\n",
        "        torch.nn.init.zeros_(self.l7.bias)\n",
        "\n",
        "# ============= Activation Functions ===================      \n",
        "        self.sigmoid = torch.nn.Sigmoid()\n",
        "        self.relu = torch.nn.ReLU()\n",
        "        self.lrelu = torch.nn.LeakyReLU()\n",
        "        self.tanh = torch.nn.Tanh()\n",
        "        \n",
        "        \n",
        "    def forward(self, x):\n",
        "        \"\"\"\n",
        "        In the forward function we accept a Variable of input data and we must return\n",
        "        a Variable of output data. We can use Modules defined in the constructor as\n",
        "        well as arbitrary operators on Variables.\n",
        "        \"\"\"\n",
        "\n",
        "        out1 = self.tanh(self.l1(x))\n",
        "        out2 = self.tanh(self.l2(out1))\n",
        "        out3 = self.tanh(self.l3(out2))\n",
        "        out4 = self.tanh(self.l4(out3))\n",
        "        out5 = self.tanh(self.l5(out4))\n",
        "        out6 = self.tanh(self.l6(out5))\n",
        "        \n",
        "        y_pred = self.sigmoid(self.l7(out6))\n",
        "        return y_pred"
      ],
      "execution_count": 0,
      "outputs": []
    },
    {
      "cell_type": "code",
      "metadata": {
        "colab_type": "code",
        "id": "NtFRmIdd-mtq",
        "outputId": "da1d6cc6-b62b-429e-c8a4-dc7b3cac207a",
        "scrolled": true,
        "colab": {
          "base_uri": "https://localhost:8080/",
          "height": 1000
        }
      },
      "source": [
        "# ============== Our Best LEARNING RATE =================================\n",
        "lnr_list = [5e-06]\n",
        "wd = 3e-04\n",
        "\n",
        "# Store training & validation loss at different lnr\n",
        "tr_loss_lnr = []\n",
        "vl_loss_lnr = []\n",
        "\n",
        "# START\n",
        "for lnr in lnr_list:\n",
        "    print('='*30)\n",
        "    print('LEARNING RATE = ', lnr, '; Batch size = ', batchsize, '; wd = ', wd)\n",
        "    \n",
        "    import time\n",
        "    tic = time.time()\n",
        "\n",
        "    # ======================= MODEL ===========================\n",
        "    # We need to initiate model at every new lnr to restart\n",
        "    if gpu_use:\n",
        "        torch.manual_seed(manualSeed)\n",
        "        model_one = Model_one()\n",
        "        model_one.cuda()\n",
        "    else:\n",
        "        torch.manual_seed(manualSeed)\n",
        "        model_one = Model_one()\n",
        "    \n",
        "    # Construct our loss function\n",
        "    criterion = torch.nn.BCELoss(size_average=True) \n",
        "\n",
        "    # Construct our Optimizer\n",
        "    optimizer = torch.optim.Adam(model_one.parameters(), lr=lnr, weight_decay=wd)\n",
        "    # ==========================================================\n",
        "    \n",
        "    \n",
        "    tr_loss = []  \n",
        "    vl_loss = []\n",
        "    auc_score = []\n",
        "    ep = []\n",
        "\n",
        "    for epoch in range(200):\n",
        "        tr_loss_epoch = 0.\n",
        "        n_batches = 0\n",
        "        for i, data in enumerate(train_loader, 0):\n",
        "            # get the inputs\n",
        "            inputs, labels = data\n",
        "        \n",
        "            # Wrap them in Variable:\n",
        "            if gpu_use:\n",
        "                inputs, labels = Variable(inputs.cuda()), Variable(labels.cuda())\n",
        "            else:\n",
        "                inputs, labels = Variable(inputs), Variable(labels)\n",
        "        \n",
        "            # Forward pass\n",
        "            y_pred = model_one(inputs.float())\n",
        "        \n",
        "            # Compute and print loss\n",
        "            loss = criterion(y_pred, labels.float())\n",
        "            tr_loss_epoch += loss.detach().item() # sum up training loss in all batches for every epoch\n",
        "            n_batches += 1 # count number of batches\n",
        "        \n",
        "            #print(epoch, i, loss.item())\n",
        "        \n",
        "            # Zero gradients, perform a backward pass, and update the weights\n",
        "            optimizer.zero_grad()\n",
        "            loss.backward()\n",
        "            optimizer.step()\n",
        "\n",
        "    \n",
        "        # Calculate loss on train & validation set and plot results\n",
        "        # at certain frequency\n",
        "    \n",
        "        if(((epoch + 1)%5 == 0) or (epoch==0)):\n",
        "            tr_loss_epoch = tr_loss_epoch/n_batches\n",
        "            tr_loss.append(tr_loss_epoch)\n",
        "        \n",
        "            y_val_pred = model_one(x_val.float())\n",
        "            loss_val = criterion(y_val_pred, y_val.float())\n",
        "            vl_loss.append(loss_val.detach().item())\n",
        "        \n",
        "            auc = metrics.roc_auc_score(vl_y, y_val_pred.cpu().detach().numpy())\n",
        "            auc_score.append(auc)\n",
        "          \n",
        "            print(epoch, tr_loss_epoch, loss_val.item(), auc)#.data[0])\n",
        "     \n",
        "\n",
        "            ep.append(epoch)\n",
        "        \n",
        "    \n",
        "    tr_loss_lnr.append(tr_loss[-1]) # save training loss at last epoch for every learning rate\n",
        "    vl_loss_lnr.append(vl_loss[-1]) # save validation loss at last epoch for every learning rate\n",
        "    \n",
        "    auc = metrics.roc_auc_score(vl_y, y_val_pred.cpu().detach().numpy())\n",
        "    print(' ')\n",
        "    print('Performance on Validation set')\n",
        "    print('AUC : ', auc, '; LNR : ', lnr, '; Weight decay = ', wd)\n",
        "    \n",
        "    toc = time.time()\n",
        "    print('running time: ', (toc - tic)/60)\n",
        "    \n",
        "    \n",
        "# Save results \n",
        "# lnr = 5e-06\n",
        "tr_loss_lnr5Eminus6_7L_200ep_B32_L2_3Eminus4 = tr_loss.copy()\n",
        "vl_loss_lnr5Eminus6_7L_200ep_B32_L2_3Eminus4 = vl_loss.copy()\n",
        "auc_lnr5Eminus6_7L_200ep_B32_L2_3Eminus4 = auc_score.copy()\n",
        "ep200 = ep.copy()\n",
        "\n",
        "\n",
        "# ==============================================\n",
        "# =============== PLOTS ========================\n",
        "\n",
        "# Plot Loss results\n",
        "plt.figure(figsize = (16,8))\n",
        "plt.plot(ep200, vl_loss_lnr5Eminus6_7L_200ep_B32_L2_3Eminus4, color = 'green', dashes=[6, 2], label = 'vl_loss_5e-6_b32_L2_3Eminus4_NormedInputs')\n",
        "plt.plot(ep200, tr_loss_lnr5Eminus6_7L_200ep_B32_L2_3Eminus4, color = 'green', label = 'tr_loss_5e-6_b32_L2_3Eminus4_NormedInputs')\n",
        "\n",
        "\n",
        "plt.xlabel('Number of epoch', size = 15)\n",
        "plt.ylabel('Loss', size = 15)\n",
        "plt.ylim(0,0.2)\n",
        "plt.xlim(-10,210)\n",
        "plt.legend(fontsize = 15)\n",
        "plt.show()\n",
        "\n",
        "# Plot AUC score\n",
        "plt.figure(figsize = (16,8))\n",
        "plt.plot(ep200, auc_lnr5Eminus6_7L_200ep_B32_L2_3Eminus4, color = 'green', label = 'AUC_5e-6_b32_L2_3Eminus4_NormedInputs')\n",
        "\n",
        "plt.title('AUC Score', size = 20)\n",
        "plt.xlabel('Number of epoch', size = 15)\n",
        "plt.ylabel('AUC Score', size = 15)\n",
        "plt.ylim(0.8,1.05)\n",
        "plt.legend(fontsize = 15)\n",
        "plt.show()"
      ],
      "execution_count": 50,
      "outputs": [
        {
          "output_type": "stream",
          "text": [
            "==============================\n",
            "LEARNING RATE =  5e-06 ; Batch size =  32 ; wd =  0.0003\n",
            "0 0.11464805097485214 0.09743062406778336 0.8690788711193992\n",
            "4 0.08573726098199126 0.0904059186577797 0.8885484743487634\n",
            "9 0.07878134783138618 0.08435451984405518 0.8983235411172504\n",
            "14 0.07378000086710862 0.08017311245203018 0.90959905154066\n",
            "19 0.06969251604579173 0.08065472543239594 0.9047285977696939\n",
            "24 0.06616635089013469 0.07567553967237473 0.9193420978819677\n",
            "29 0.06314257931466227 0.07711347192525864 0.9178113469622441\n",
            "34 0.06075641785350769 0.07518120110034943 0.9211112798209268\n",
            "39 0.058482939615477667 0.07363992184400558 0.9219355911447762\n",
            "44 0.056559717608574755 0.07138807326555252 0.9288406895383042\n",
            "49 0.05473639664155464 0.07233916968107224 0.9278590390040052\n",
            "54 0.053271369012110846 0.07352833449840546 0.9263906295749674\n",
            "59 0.05188032563768082 0.07057514786720276 0.9320913790622792\n",
            "64 0.05072547358452555 0.07120588421821594 0.9289135520113286\n",
            "69 0.04949778034384568 0.07253757119178772 0.9268527588415605\n",
            "74 0.04866405008355382 0.07328977435827255 0.9349627082019029\n",
            "79 0.04777792560983182 0.07121186703443527 0.9317623733391599\n",
            "84 0.046767214273850215 0.07289674133062363 0.9290736912975862\n",
            "89 0.045974483002375936 0.07349109649658203 0.9326463088701211\n",
            "94 0.04521638607125838 0.07249192148447037 0.9351021802114141\n",
            "99 0.04463593934269837 0.07242318242788315 0.9362995682013499\n",
            "104 0.04393829690188615 0.072035051882267 0.9350284696487121\n",
            "109 0.04327853848242769 0.070858433842659 0.9336669057203967\n",
            "114 0.04269269742194951 0.07288505882024765 0.9308369620833328\n",
            "119 0.04226847075723428 0.0700020045042038 0.9379461656236349\n",
            "124 0.04176584466507755 0.07273168116807938 0.9378541070281744\n",
            "129 0.041239545141179966 0.0730142742395401 0.9374970517207861\n",
            "134 0.0407288085530549 0.07206954807043076 0.9341625541658902\n",
            "139 0.040339250082396555 0.07110054790973663 0.9340892543800409\n",
            "144 0.03995637435069542 0.07293075323104858 0.9378228858644838\n",
            "149 0.039410342000011304 0.07331807166337967 0.9331686079234185\n",
            "154 0.039188553300563866 0.07226021587848663 0.9404080521391522\n",
            "159 0.03876115565887919 0.07620299607515335 0.940246682645214\n",
            "164 0.038353676174413626 0.07358179986476898 0.936086082057612\n",
            "169 0.03800279402947629 0.07302044332027435 0.9337308531681323\n",
            "174 0.037836347860840204 0.07233801484107971 0.9389373945825327\n",
            "179 0.03733440927932367 0.07446306198835373 0.9371973778001222\n",
            "184 0.037114156625999456 0.0750138983130455 0.9358066115648969\n",
            "189 0.0368948825542248 0.07310616970062256 0.9392173543985788\n",
            "194 0.036439549276787615 0.07626127451658249 0.9391452604073154\n",
            "199 0.036227226722563656 0.07462520152330399 0.9340099797546452\n",
            " \n",
            "Performance on Validation set\n",
            "AUC :  0.9340099797546452 ; LNR :  5e-06 ; Weight decay =  0.0003\n",
            "running time:  182.91352637211483\n"
          ],
          "name": "stdout"
        },
        {
          "output_type": "display_data",
          "data": {
            "image/png": "[encoded data removed]",
            "text/plain": [
              "<Figure size 1152x576 with 1 Axes>"
            ]
          },
          "metadata": {
            "tags": []
          }
        },
        {
          "output_type": "display_data",
          "data": {
            "image/png": "[encoded data removed]",
            "text/plain": [
              "<Figure size 1152x576 with 1 Axes>"
            ]
          },
          "metadata": {
            "tags": []
          }
        }
      ]
    },
    {
      "cell_type": "code",
      "metadata": {
        "id": "IT8CD7AY_FvQ",
        "colab_type": "code",
        "colab": {}
      },
      "source": [
        ""
      ],
      "execution_count": 0,
      "outputs": []
    },
    {
      "cell_type": "code",
      "metadata": {
        "id": "8syydvuxtV_2",
        "colab_type": "code",
        "colab": {}
      },
      "source": [
        ""
      ],
      "execution_count": 0,
      "outputs": []
    },
    {
      "cell_type": "code",
      "metadata": {
        "id": "Qb_APK0vtV_2",
        "colab_type": "code",
        "colab": {}
      },
      "source": [
        ""
      ],
      "execution_count": 0,
      "outputs": []
    },
    {
      "cell_type": "code",
      "metadata": {
        "id": "7wTu6HlrtV_3",
        "colab_type": "code",
        "colab": {}
      },
      "source": [
        ""
      ],
      "execution_count": 0,
      "outputs": []
    },
    {
      "cell_type": "code",
      "metadata": {
        "id": "4NgDGMaEtV_4",
        "colab_type": "code",
        "colab": {}
      },
      "source": [
        ""
      ],
      "execution_count": 0,
      "outputs": []
    },
    {
      "cell_type": "code",
      "metadata": {
        "colab_type": "code",
        "id": "C4xxbsu5tj7a",
        "colab": {}
      },
      "source": [
        ""
      ],
      "execution_count": 0,
      "outputs": []
    },
    {
      "cell_type": "code",
      "metadata": {
        "colab_type": "code",
        "id": "IrktfhSH-l4K",
        "colab": {}
      },
      "source": [
        ""
      ],
      "execution_count": 0,
      "outputs": []
    },
    {
      "cell_type": "code",
      "metadata": {
        "colab_type": "code",
        "id": "HG-WOJpy3SCd",
        "colab": {}
      },
      "source": [
        ""
      ],
      "execution_count": 0,
      "outputs": []
    },
    {
      "cell_type": "code",
      "metadata": {
        "colab_type": "code",
        "id": "tK8OQIp93R4l",
        "colab": {}
      },
      "source": [
        ""
      ],
      "execution_count": 0,
      "outputs": []
    },
    {
      "cell_type": "code",
      "metadata": {
        "colab_type": "code",
        "id": "BsD-NQJs3RwD",
        "colab": {}
      },
      "source": [
        ""
      ],
      "execution_count": 0,
      "outputs": []
    },
    {
      "cell_type": "code",
      "metadata": {
        "colab_type": "code",
        "id": "qrYoyg3o3Rml",
        "colab": {}
      },
      "source": [
        ""
      ],
      "execution_count": 0,
      "outputs": []
    },
    {
      "cell_type": "code",
      "metadata": {
        "colab_type": "code",
        "id": "jpV7jtaE3Ram",
        "colab": {}
      },
      "source": [
        ""
      ],
      "execution_count": 0,
      "outputs": []
    },
    {
      "cell_type": "code",
      "metadata": {
        "colab_type": "code",
        "id": "ClUAWmZit_Id",
        "colab": {}
      },
      "source": [
        ""
      ],
      "execution_count": 0,
      "outputs": []
    },
    {
      "cell_type": "code",
      "metadata": {
        "colab_type": "code",
        "id": "drn9q1cGt_Ie",
        "colab": {}
      },
      "source": [
        ""
      ],
      "execution_count": 0,
      "outputs": []
    },
    {
      "cell_type": "code",
      "metadata": {
        "colab_type": "code",
        "id": "SPSXKYBDt_Ie",
        "colab": {}
      },
      "source": [
        ""
      ],
      "execution_count": 0,
      "outputs": []
    },
    {
      "cell_type": "code",
      "metadata": {
        "colab_type": "code",
        "id": "q8SsEadtt_If",
        "colab": {}
      },
      "source": [
        ""
      ],
      "execution_count": 0,
      "outputs": []
    },
    {
      "cell_type": "code",
      "metadata": {
        "colab_type": "code",
        "id": "EhgVI2iJt_Ih",
        "colab": {}
      },
      "source": [
        ""
      ],
      "execution_count": 0,
      "outputs": []
    },
    {
      "cell_type": "code",
      "metadata": {
        "colab_type": "code",
        "id": "9DBQuwhIt_Ii",
        "colab": {}
      },
      "source": [
        ""
      ],
      "execution_count": 0,
      "outputs": []
    },
    {
      "cell_type": "code",
      "metadata": {
        "colab_type": "code",
        "id": "bkSPeFZyt_Ii",
        "colab": {}
      },
      "source": [
        ""
      ],
      "execution_count": 0,
      "outputs": []
    }
  ]
}